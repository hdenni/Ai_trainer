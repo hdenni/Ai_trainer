{
 "cells": [
  {
   "cell_type": "markdown",
   "metadata": {},
   "source": [
    "# 준비"
   ]
  },
  {
   "cell_type": "markdown",
   "metadata": {},
   "source": [
    "## 모듈"
   ]
  },
  {
   "cell_type": "code",
   "execution_count": 6,
   "metadata": {
    "ExecuteTime": {
     "end_time": "2020-08-20T07:37:25.679783Z",
     "start_time": "2020-08-20T07:37:24.835734Z"
    }
   },
   "outputs": [],
   "source": [
    "import os\n",
    "import shutil\n",
    "import json\n",
    "import math\n",
    "import numpy as np\n",
    "import pandas as pd\n",
    "import cv2\n",
    "import matplotlib.pyplot as plt\n",
    "%matplotlib inline\n",
    "\n",
    "from sklearn.preprocessing import PolynomialFeatures\n",
    "from sklearn.linear_model import LinearRegression\n",
    "from sklearn.neural_network import MLPClassifier\n",
    "from scipy.signal import savgol_filter\n",
    "from scipy.signal import argrelextrema"
   ]
  },
  {
   "cell_type": "markdown",
   "metadata": {},
   "source": [
    "## 태그"
   ]
  },
  {
   "cell_type": "code",
   "execution_count": 7,
   "metadata": {
    "ExecuteTime": {
     "end_time": "2020-08-20T07:37:25.693783Z",
     "start_time": "2020-08-20T07:37:25.680783Z"
    }
   },
   "outputs": [],
   "source": [
    "body_part = [\"Nose_x\", \"Nose_y\",\n",
    "             \"Neck_x\", \"Neck_y\",\n",
    "             \"RShoulder_x\", \"RShoulder_y\",\n",
    "             \"RElbow_x\", \"RElbow_y\",\n",
    "             \"RWrist_x\", \"RWrist_y\",\n",
    "             \"LShoulder_x\", \"LShoulder_y\",\n",
    "             \"LElbow_x\", \"LElbow_y\",\n",
    "             \"LWrist_x\", \"LWrist_y\",\n",
    "             \"MidHip_x\", \"MidHip_y\",\n",
    "             \"RHip_x\", \"RHip_y\",\n",
    "             \"RKnee_x\", \"RKnee_y\",\n",
    "             \"RAnkle_x\", \"RAnkle_y\",\n",
    "             \"LHip_x\", \"LHip_y\",\n",
    "             \"LKnee_x\", \"LKnee_y\",\n",
    "             \"LAnkle_x\", \"LAnkle_y\",\n",
    "             \"REye_x\", \"REye_y\",\n",
    "             \"LEye_x\", \"LEye_y\",\n",
    "             \"REar_x\", \"REar_y\",\n",
    "             \"LEar_x\", \"LEar_y\",\n",
    "             \"LBigToe_x\", \"LBigToe_y\",\n",
    "             \"LSmallToe_x\", \"LSmallToe_y\",\n",
    "             \"LHeel_x\", \"LHeel_y\",\n",
    "             \"RBigToe_x\", \"RBigToe_y\",\n",
    "             \"RSmallToe_x\", \"RSmallToe_y\",\n",
    "             \"RHeel_x\", \"RHeel_y\"]\n",
    "\n",
    "main_body_part = [\"Neck_x\", \"Neck_y\", \n",
    "     \"RShoulder_x\", \"RShoulder_y\", \n",
    "     \"RElbow_x\", \"RElbow_y\", \n",
    "     \"RWrist_x\", \"RWrist_y\", \n",
    "     \"LShoulder_x\", \"LShoulder_y\", \n",
    "     \"LElbow_x\", \"LElbow_y\", \n",
    "     \"LWrist_x\", \"LWrist_y\", \n",
    "     \"MidHip_x\", \"MidHip_y\", \n",
    "     \"RHip_x\", \"RHip_y\", \n",
    "     \"RKnee_x\", \"RKnee_y\", \n",
    "     \"RAnkle_x\", \"RAnkle_y\", \n",
    "     \"LHip_x\", \"LHip_y\", \n",
    "     \"LKnee_x\", \"LKnee_y\", \n",
    "     \"LAnkle_x\", \"LAnkle_y\"]\n",
    "\n",
    "body_part_with_confidence = [\"Nose_x\", \"Nose_y\", \"Nose_cfd\",\n",
    "                             \"Neck_x\", \"Neck_y\", \"Neck_cfd\", \n",
    "                             \"RShoulder_x\", \"RShoulder_y\", \"Rshoulder_cfd\", \n",
    "                             \"RElbow_x\", \"RElbow_y\", \"RElbow_cfd\", \n",
    "                             \"RWrist_x\", \"RWrist_y\", \"RWrist_cfd\",\n",
    "                             \"LShoulder_x\", \"LShoulder_y\", \"LShoulder_cfd\",\n",
    "                             \"LElbow_x\", \"LElbow_y\", \"LElbow_cfd\",\n",
    "                             \"LWrist_x\", \"LWrist_y\", \"LWrist_cfd\",\n",
    "                             \"MidHip_x\", \"MidHip_y\", \"MidHip_cfd\",\n",
    "                             \"RHip_x\", \"RHip_y\", \"RHip_cfd\",\n",
    "                             \"RKnee_x\", \"RKnee_y\", \"RKnee_cfd\",\n",
    "                             \"RAnkle_x\", \"RAnkle_y\", \"RAnkle_cfd\",\n",
    "                             \"LHip_x\", \"LHip_y\", \"LHip_cfd\",\n",
    "                             \"LKnee_x\", \"LKnee_y\", \"LKnee_cfd\",\n",
    "                             \"LAnkle_x\", \"LAnkle_y\", \"LAnkle_cfd\",\n",
    "                             \"REye_x\", \"REye_y\", \"REye_cfd\",\n",
    "                             \"LEye_x\", \"LEye_y\", \"LEye_cfd\",\n",
    "                             \"REar_x\", \"REar_y\", \"REar_cfd\",\n",
    "                             \"LEar_x\", \"LEar_y\", \"LEar_cfd\",\n",
    "                             \"LBigToe_x\", \"LBigToe_y\", \"LBigToe_cfd\",\n",
    "                             \"LSmallToe_x\", \"LSmallToe_y\", \"LSmallToe_cfd\",\n",
    "                             \"LHeel_x\", \"LHeel_y\", \"LHeel_cfd\",\n",
    "                             \"RBigToe_x\", \"RBigToe_y\", \"RBigToe_cfd\",\n",
    "                             \"RSmallToe_x\", \"RSmallToe_y\", \"RSmallToe_cfd\",\n",
    "                             \"RHeel_x\", \"RHeel_y\", \"RHeel_cfd\"]\n",
    "\n",
    "BackAndFace = [[8,1],[1,0],[0,15],[0,16],[16,18]]\n",
    "RightArm = [[1,2],[2,3],[3,4]]\n",
    "LeftArm = [[1,5],[5,6],[6,7]]\n",
    "RightLeg = [[8,9],[9,10],[10,11],[11,22],[11,23],[11,24]]\n",
    "LeftLeg = [[8,12],[12,13],[13,14],[14,19],[14,20],[14,21]]\n",
    "\n",
    "BackAndFace_pt = [0,1,8,15,16,18]\n",
    "RightArm_pt = [2,3,4]\n",
    "LeftArm_pt = [5,6,7]\n",
    "RightLeg_pt = [9,10,11,22,23,24]\n",
    "LeftLeg_pt = [12,13,14,19,20,21]"
   ]
  },
  {
   "cell_type": "markdown",
   "metadata": {},
   "source": [
    "## Openpose가 생성한 .json 파일 정리\n",
    "* 생성 후 최초 1회만 실행\n",
    "* 다시 실행하지 말 것"
   ]
  },
  {
   "cell_type": "code",
   "execution_count": 8,
   "metadata": {
    "ExecuteTime": {
     "end_time": "2020-08-20T07:37:25.725785Z",
     "start_time": "2020-08-20T07:37:25.694783Z"
    }
   },
   "outputs": [],
   "source": [
    "# src = \"./new_data/\""
   ]
  },
  {
   "cell_type": "code",
   "execution_count": 9,
   "metadata": {
    "ExecuteTime": {
     "end_time": "2020-08-20T07:37:25.738786Z",
     "start_time": "2020-08-20T07:37:25.726785Z"
    }
   },
   "outputs": [],
   "source": [
    "# # 이름이 너무 길어서 줄였음(001_010.json)\n",
    "# filelist = os.listdir(src)\n",
    "# for file in filelist:\n",
    "#     new_name = file[5:8] + '_' + file[18:21] + file[-5:]\n",
    "#     os.rename(src+file, src+new_name)"
   ]
  },
  {
   "cell_type": "code",
   "execution_count": 10,
   "metadata": {
    "ExecuteTime": {
     "end_time": "2020-08-20T07:37:25.749787Z",
     "start_time": "2020-08-20T07:37:25.739786Z"
    }
   },
   "outputs": [],
   "source": [
    "# filelist = os.listdir(src)\n",
    "# for file in filelist:\n",
    "#     new_src = src+file[:3]\n",
    "#     if not os.path.isdir(new_src):\n",
    "#         os.mkdir(new_src)\n",
    "#     shutil.move(src+file, src+file[:3]+'/'+file)"
   ]
  },
  {
   "cell_type": "markdown",
   "metadata": {},
   "source": [
    "### 생성데이터 아웃풋"
   ]
  },
  {
   "cell_type": "code",
   "execution_count": 11,
   "metadata": {
    "ExecuteTime": {
     "end_time": "2020-08-20T10:39:00.870952Z",
     "start_time": "2020-08-20T10:39:00.867952Z"
    }
   },
   "outputs": [],
   "source": [
    "# src = \"output_001_060/\""
   ]
  },
  {
   "cell_type": "code",
   "execution_count": 12,
   "metadata": {
    "ExecuteTime": {
     "end_time": "2020-08-20T10:39:04.162140Z",
     "start_time": "2020-08-20T10:39:02.552048Z"
    }
   },
   "outputs": [],
   "source": [
    "# # 이름이 너무 길어서 줄였음(001_010.json)\n",
    "# filelist = os.listdir(src)\n",
    "# for file in filelist:\n",
    "#     new_name = file[6:9] + '_' + file[19:22] + file[-5:]\n",
    "#     os.rename(src+file, src+new_name)"
   ]
  },
  {
   "cell_type": "code",
   "execution_count": 13,
   "metadata": {
    "ExecuteTime": {
     "end_time": "2020-08-20T10:39:07.978358Z",
     "start_time": "2020-08-20T10:39:05.857237Z"
    }
   },
   "outputs": [],
   "source": [
    "# filelist = os.listdir(src)\n",
    "# for file in filelist:\n",
    "#     new_src = src+file[:3]\n",
    "#     if not os.path.isdir(new_src):\n",
    "#         os.mkdir(new_src)\n",
    "#     shutil.move(src+file, src+file[:3]+'/'+file)"
   ]
  },
  {
   "cell_type": "markdown",
   "metadata": {},
   "source": [
    "## 기준 운동 설정"
   ]
  },
  {
   "cell_type": "code",
   "execution_count": 14,
   "metadata": {},
   "outputs": [],
   "source": [
    "std_path = 'train_data_240_json/001/'\n",
    "male_train = pd.read_csv(\"male_train_with_frame.csv\")\n",
    "male_standard = male_train.loc[male_train.grade == 'A']\n",
    "\n",
    "# std_path_fe = \"new_data/038/\"\n",
    "# female_train = pd.read_csv(\"female_train_with_frame.csv\")\n",
    "# female_standard = female_train.loc[female_train.grade == 'A']"
   ]
  },
  {
   "cell_type": "markdown",
   "metadata": {},
   "source": [
    "## 함수"
   ]
  },
  {
   "cell_type": "markdown",
   "metadata": {},
   "source": [
    "### 거리 계산"
   ]
  },
  {
   "cell_type": "code",
   "execution_count": 15,
   "metadata": {
    "ExecuteTime": {
     "end_time": "2020-08-20T07:37:25.763787Z",
     "start_time": "2020-08-20T07:37:25.750787Z"
    }
   },
   "outputs": [],
   "source": [
    "# 두 점 사이의 거리 계산\n",
    "# 단위: 픽셀\n",
    "def cal_distance(point_a, point_b):\n",
    "    dis = np.array(point_a) - np.array(point_b)\n",
    "    dist = np.linalg.norm(dis)\n",
    "    return dist"
   ]
  },
  {
   "cell_type": "markdown",
   "metadata": {},
   "source": [
    "### 각도 계산"
   ]
  },
  {
   "cell_type": "code",
   "execution_count": 16,
   "metadata": {
    "ExecuteTime": {
     "end_time": "2020-08-20T07:37:25.779788Z",
     "start_time": "2020-08-20T07:37:25.764787Z"
    }
   },
   "outputs": [],
   "source": [
    "# a, b, c 순서대로 높은 좌표부터 넣어줘야 함\n",
    "# point_b에 반드시 세 좌표 중 가운데 좌표를 넣어줘야함\n",
    "# ex) point_a = 엉덩이, point_b = 무릎, point_c = 발목\n",
    "# create vectors, 두 점 사이 거리 계산\n",
    "def cal_degree(point_a, point_b, point_c):\n",
    "    dis_ba = np.array(point_a) - np.array(point_b)\n",
    "    dis_bc = np.array(point_c) - np.array(point_b)\n",
    "\n",
    "    # calculate angle\n",
    "    cosine_angle = np.dot(dis_ba, dis_bc) / (np.linalg.norm(dis_ba) * np.linalg.norm(dis_bc))\n",
    "\n",
    "    angle = np.arccos(cosine_angle)\n",
    "    inner_angle = round(np.degrees(angle), 3)\n",
    "    if point_c[1] < point_a[1]:\n",
    "        inner_angle = -inner_angle\n",
    "    \n",
    "    return inner_angle"
   ]
  },
  {
   "cell_type": "markdown",
   "metadata": {},
   "source": [
    "### JSON -> DataFrame 변환"
   ]
  },
  {
   "cell_type": "code",
   "execution_count": 17,
   "metadata": {
    "ExecuteTime": {
     "end_time": "2020-08-20T07:37:25.797789Z",
     "start_time": "2020-08-20T07:37:25.781788Z"
    }
   },
   "outputs": [],
   "source": [
    "# path는 \".../\"으로 끝나야 함\n",
    "# savgol_filter를 사용해 smoothing\n",
    "def json_to_df(path):\n",
    "    json_list = list()\n",
    "    for fname in os.listdir(path):\n",
    "        with open(path+fname, \"r\") as json_file:\n",
    "            js = json.load(json_file)\n",
    "            if not js['people']:\n",
    "                continue\n",
    "            json_list.append(js[\"people\"][0][\"pose_keypoints_2d\"]) \n",
    "            #관절의 태그 정보를 가지고있는 좌표\n",
    "\n",
    "    df_data = list()\n",
    "    for item in json_list:\n",
    "        temp = list()\n",
    "        for idx, d in enumerate(item):\n",
    "            temp.append(d)\n",
    "        df_data.append(temp)\n",
    "\n",
    "    df = pd.DataFrame(df_data, columns=body_part_with_confidence)\n",
    "    df.replace(0, np.nan, inplace=True)\n",
    "    df = df.interpolate()\n",
    "    \n",
    "    df[\"REar_x\"] = 0.0\n",
    "    df[\"REar_y\"] = 0.0\n",
    "    df[\"REar_cfd\"] = 0.0\n",
    "    df['Angle_Rleg'] = df.apply(lambda x:cal_degree([x.RHip_x, x.RHip_y], [x.RKnee_x, x.RKnee_y], [x.RAnkle_x, x.RAnkle_y]), axis=1)\n",
    "    df['Angle_Lleg'] = df.apply(lambda x:cal_degree([x.LHip_x, x.LHip_y], [x.LKnee_x, x.LKnee_y], [x.LAnkle_x, x.LAnkle_y]), axis=1)\n",
    "    df['Angle_waist'] = df.apply(lambda x:cal_degree([x.Neck_x, x.Neck_y], [x.MidHip_x, x.MidHip_y], [0, x.RHip_y]), axis=1)\n",
    "\n",
    "    mod_df = savgol_filter(df, 51, 7, axis = 0)\n",
    "    mod_df = pd.DataFrame(mod_df, columns=df.columns)\n",
    "    \n",
    "    return mod_df"
   ]
  },
  {
   "cell_type": "markdown",
   "metadata": {},
   "source": [
    "### Cycle 찾기"
   ]
  },
  {
   "cell_type": "code",
   "execution_count": 18,
   "metadata": {
    "ExecuteTime": {
     "end_time": "2020-08-20T07:37:25.810790Z",
     "start_time": "2020-08-20T07:37:25.799789Z"
    }
   },
   "outputs": [],
   "source": [
    "# Angle_Rleg를 사용해 cycle 탐색\n",
    "def get_cycle(path):\n",
    "    mod_df = json_to_df(path) # mod_df는 smoothing된 DataFrame\n",
    "    \n",
    "    x = [i for i in range(len(mod_df))]\n",
    "    y = mod_df[\"Angle_Rleg\"].to_numpy()\n",
    "    max_idx = argrelextrema(y, np.greater)\n",
    "    #local maximum의 인덱스 찾음\n",
    "    min_idx = argrelextrema(y, np.less)\n",
    "    #local minimum의 인덱스 찾음\n",
    "    order1 = np.gradient(y) #1차미분\n",
    "    order2 = np.gradient(order1)#2차미분\n",
    "    \n",
    "    new_max = []\n",
    "    for idx in max_idx[0]:\n",
    "        if order1[idx-1] > 0 and order1[idx+1] < 0 and round(order2[idx],3) < 0:\n",
    "            new_max.append(idx)\n",
    "\n",
    "    new_min = []\n",
    "    for idx in min_idx[0]:\n",
    "        if order1[idx-1] < 0 and order1[idx+1] > 0 and round(order2[idx],3) > 0:\n",
    "            new_min.append(idx)\n",
    "    \n",
    "    for i in range(len(new_min)-1):\n",
    "        if y[new_min[i+1]] < y[new_min[i]] * 0.8:\n",
    "            idx = new_min[i+1]\n",
    "            break\n",
    "            \n",
    "    for i in range(len(new_max)):\n",
    "        if idx < new_max[i]:\n",
    "            start = new_max[i-1]\n",
    "            end = new_max[i]\n",
    "            break\n",
    "            \n",
    "    x_new = x[start:end+1]\n",
    "    y_new = y[start:end+1]\n",
    "    return idx, x_new, y_new # idx가 운동 중간 지점"
   ]
  },
  {
   "cell_type": "markdown",
   "metadata": {},
   "source": [
    "### Similarity"
   ]
  },
  {
   "cell_type": "code",
   "execution_count": 19,
   "metadata": {
    "ExecuteTime": {
     "end_time": "2020-08-20T07:37:25.822791Z",
     "start_time": "2020-08-20T07:37:25.811790Z"
    }
   },
   "outputs": [],
   "source": [
    "def cal_similarity(p, q):\n",
    "    length = min(len(p), len(q))\n",
    "    common = []\n",
    "    for i in range(length):\n",
    "        common.append(min(p[i], q[i]))\n",
    "    return sum(common)*100/np.sum(q)"
   ]
  },
  {
   "cell_type": "markdown",
   "metadata": {},
   "source": [
    "### 기준 영상 설정"
   ]
  },
  {
   "cell_type": "code",
   "execution_count": 20,
   "metadata": {
    "ExecuteTime": {
     "end_time": "2020-08-20T07:37:25.843792Z",
     "start_time": "2020-08-20T07:37:25.823791Z"
    }
   },
   "outputs": [],
   "source": [
    "def set_standard(path):\n",
    "    mid, cycle_std, cycle_value = get_cycle(path)\n",
    "\n",
    "    # polynomial regression\n",
    "    mod_df_ori = json_to_df(path)\n",
    "    df = mod_df_ori.iloc[cycle_std[0]:cycle_std[-1]+1, :]\n",
    "    x = [(num-cycle_std[0])/(len(cycle_std)-1) for num in cycle_std]\n",
    "    X = np.array(x)[:, np.newaxis]\n",
    "    X_fit = np.arange(0, 1, 0.01)[:, np.newaxis]\n",
    "    \n",
    "    # sim_lleg\n",
    "    y = [180-value for value in list(df.Angle_Lleg)] #취존\n",
    "    y = np.array(y)\n",
    "\n",
    "    lr = LinearRegression()\n",
    "    model = PolynomialFeatures(degree = 20)\n",
    "    X_new = model.fit_transform(X)\n",
    "    lr.fit(X_new, y)\n",
    "    y_std_fit = lr.predict(model.fit_transform(X_fit))\n",
    "\n",
    "    # sim_rleg\n",
    "    y2 = [180-value for value in list(df.Angle_Rleg)]\n",
    "    y2 = np.array(y2)\n",
    "\n",
    "    lr2 = LinearRegression()\n",
    "    model2 = PolynomialFeatures(degree = 20)\n",
    "    X_new_2 = model2.fit_transform(X)\n",
    "    lr2.fit(X_new, y2)\n",
    "    y_std_fit_2 = lr2.predict(model2.fit_transform(X_fit))\n",
    "    return y_std_fit, y_std_fit_2"
   ]
  },
  {
   "cell_type": "markdown",
   "metadata": {},
   "source": [
    "### 기준 영상과 비교"
   ]
  },
  {
   "cell_type": "code",
   "execution_count": 21,
   "metadata": {
    "ExecuteTime": {
     "end_time": "2020-08-20T07:37:25.860793Z",
     "start_time": "2020-08-20T07:37:25.844792Z"
    }
   },
   "outputs": [],
   "source": [
    "def compare(path, gender, save = False):\n",
    "    global std_path, std_path_fe\n",
    "    if gender == 1:\n",
    "        y_std, y_std_2 = set_standard(std_path)\n",
    "    elif gender == 2:\n",
    "        y_std, y_std_2 = set_standard(std_path_fe)\n",
    "    else:\n",
    "        return \"Unavailable gender\"\n",
    "    \n",
    "    mid, cycle_cpr, cycle_cpr_value = get_cycle(path)\n",
    "\n",
    "    # polynomial regression\n",
    "    mod_df_ori = json_to_df(path)\n",
    "    df = mod_df_ori.iloc[cycle_cpr[0]:cycle_cpr[-1]+1, :]\n",
    "    x = [(num-cycle_cpr[0])/(len(cycle_cpr)-1) for num in cycle_cpr]\n",
    "    X = np.array(x)[:, np.newaxis]\n",
    "    X_fit = np.arange(0, 1, 0.01)[:, np.newaxis]\n",
    "    \n",
    "    # sim_lleg\n",
    "    y = [180-value for value in list(df.Angle_Lleg)]\n",
    "    y = np.array(y)\n",
    "\n",
    "    lr = LinearRegression()\n",
    "    model = PolynomialFeatures(degree = 20)\n",
    "    X_new = model.fit_transform(X)\n",
    "    lr.fit(X_new, y)\n",
    "    y_new_fit = lr.predict(model.fit_transform(X_fit))\n",
    "\n",
    "    p = y_std\n",
    "    standard_1 = np.where(p < 0, -p, p)\n",
    "    q = y_new_fit\n",
    "    compare_1 = np.where(q < 0, -q, q)\n",
    "\n",
    "    # sim_rleg\n",
    "    y2 = [180-value for value in list(df.Angle_Rleg)]\n",
    "    y2 = np.array(y2)\n",
    "\n",
    "    lr2 = LinearRegression()\n",
    "    model2 = PolynomialFeatures(degree = 20)\n",
    "    X_new_2 = model2.fit_transform(X)\n",
    "    lr2.fit(X_new_2, y2)\n",
    "    y_new_fit_2 = lr2.predict(model2.fit_transform(X_fit))\n",
    "\n",
    "    p2 = y_std_2\n",
    "    standard_2 = np.where(p2 < 0, -p2, p2)\n",
    "    q2 = y_new_fit_2\n",
    "    compare_2 = np.where(q2 < 0, -q2, q2)\n",
    "    \n",
    "    # similarity 그래프 저장 용도\n",
    "    if save == True:\n",
    "        standard_0 = (standard_1 + standard_2)/2\n",
    "        compare_0 = (compare_1 + compare_2)/2\n",
    "        plt.plot(X_fit, standard_0, c='red')\n",
    "        plt.plot(X_fit, compare_0, c='blue')\n",
    "        plt.title('Similarity Graph')\n",
    "        # 저장 파일명 설정\n",
    "        plt.savefig(f'sim_graph_{path[-4:-1]}.jpg')\n",
    "        plt.close()\n",
    "\n",
    "    # save result\n",
    "    min_angle_lleg = min(df.Angle_Lleg)\n",
    "    min_angle_rleg = min(df.Angle_Rleg)\n",
    "    min_angle_waist = min(df.Angle_waist)\n",
    "    down_time = mid - cycle_cpr[0]\n",
    "    up_time = cycle_cpr[-1] - mid\n",
    "    sim_lleg = cal_similarity(compare_1, standard_1)\n",
    "#     if sim_lleg < 0:\n",
    "#         sim_lleg = -sim_lleg\n",
    "    sim_rleg = cal_similarity(compare_2, standard_2)\n",
    "#     if sim_rleg < 0:\n",
    "#         sim_rleg = -sim_rleg\n",
    "    similarity = (sim_lleg + sim_rleg)/2\n",
    "\n",
    "    result = {'min_angle_lleg': min_angle_lleg, 'min_angle_rleg': min_angle_rleg, 'min_angle_waist': min_angle_waist,\\\n",
    "             'down_time': down_time, 'up_time': up_time, 'similarity': similarity}\n",
    "    return result"
   ]
  },
  {
   "cell_type": "markdown",
   "metadata": {},
   "source": [
    "### 스쿼트 판단 & 피드백"
   ]
  },
  {
   "cell_type": "code",
   "execution_count": 22,
   "metadata": {
    "ExecuteTime": {
     "end_time": "2020-08-20T07:37:25.875794Z",
     "start_time": "2020-08-20T07:37:25.861793Z"
    }
   },
   "outputs": [],
   "source": [
    "def squat(dict_, gender):\n",
    "    global male_standard, female_standard\n",
    "    if gender == 1:\n",
    "        standard = male_standard\n",
    "    elif gender == 2:\n",
    "        standard = female_standard\n",
    "    else:\n",
    "        return \"Unavailable gender\"\n",
    "    \n",
    "    advice = {}\n",
    "#     append = True\n",
    "    \n",
    "    # 무릎 각도 차이\n",
    "    lleg_mean = (np.sum(standard.min_angle_lleg) - min(standard.min_angle_lleg) - max(standard.min_angle_lleg))/\\\n",
    "    (len(standard)-2)\n",
    "    diff_lleg = lleg_mean - dict_['min_angle_lleg']\n",
    "    rleg_mean = (np.sum(standard.min_angle_rleg) - min(standard.min_angle_rleg) - max(standard.min_angle_rleg))/\\\n",
    "    (len(standard)-2)\n",
    "    diff_rleg = rleg_mean - dict_['min_angle_rleg']\n",
    "    diff_leg = (diff_lleg + diff_rleg)/2\n",
    "#     if diff_leg >= 0:\n",
    "#         advice[1] = f\"평균보다 무릎이 약 {diff_leg:2.2f}도 더 구부러졌습니다.\"\n",
    "#     else:\n",
    "#         advice[1] = f\"평균보다 무릎이 약 {-diff_leg:2.2f}도 덜 구부러졌습니다.\"\n",
    "    advice[1] = f\"{diff_leg:3.3f}\"\n",
    "#     if (lleg_mean + rleg_mean)*0.95/2 <= (dict_['min_angle_lleg']+dict_['min_angle_rleg'])/2 <= (lleg_mean + rleg_mean)*1.05/2:\n",
    "#         pass\n",
    "#     else:\n",
    "#         append = False\n",
    "        \n",
    "    \n",
    "    # 허리 각도 차이\n",
    "    waist_mean = (np.sum(standard.min_angle_waist) - min(standard.min_angle_waist) - max(standard.min_angle_waist))\\\n",
    "    /(len(standard)-2)\n",
    "    diff_waist = waist_mean - dict_['min_angle_waist']\n",
    "#     if diff_waist >= 0:\n",
    "#         advice[2] = f\"평균보다 허리가 약 {diff_waist:2.2f}도 더 굽혀졌습니다.\"\n",
    "#     else:\n",
    "#         advice[2] = f\"평균보다 허리가 약 {-diff_waist:2.2f}도 덜 굽혀졌습니다.\"\n",
    "    advice[2] = f\"{diff_waist:3.3f}\"\n",
    "#     if waist_mean*0.95 <= dict_['min_angle_waist'] <= waist_mean*1.05:\n",
    "#         pass\n",
    "#     else:\n",
    "#         append = False\n",
    "    \n",
    "        \n",
    "    # 운동 시간 차이\n",
    "    # down\n",
    "    dtime_mean = (np.sum(standard.down_time) - min(standard.down_time) - max(standard.down_time))\\\n",
    "    /(len(standard)-2)\n",
    "    diff_dtime_frame = dtime_mean - dict_['down_time']\n",
    "    diff_dtime = diff_dtime_frame/30\n",
    "#     if diff_dtime >= 0:\n",
    "#         advice[3] = f\"평균보다 약 {diff_dtime:2.2f}초 빨리 앉았습니다.\"\n",
    "#     else:\n",
    "#         advice[3] = f\"평균보다 약 {-diff_dtime:2.2f}초 느리게 앉았습니다.\"\n",
    "    advice[3] = f\"{diff_dtime:3.3f}\"\n",
    "#     if dtime_mean*0.95 <= dict_['down-time'] <= dtime_mean*1.05:\n",
    "#         pass\n",
    "#     else:\n",
    "#         append = False\n",
    "    #up\n",
    "    utime_mean = (np.sum(standard.up_time) - min(standard.up_time) - max(standard.up_time))\\\n",
    "    /(len(standard)-2)\n",
    "    diff_utime_frame = utime_mean - dict_['up_time']\n",
    "    diff_utime = diff_utime_frame/30\n",
    "#     if diff_utime >= 0:\n",
    "#         advice[4] = f\"평균보다 약 {diff_utime:2.2f}초 빨리 일어났습니다.\"\n",
    "#     else:\n",
    "#         advice[4] = f\"평균보다 약 {-diff_utime:2.2f}초 느리게 일어났습니다.\"\n",
    "    advice[4] = f\"{diff_utime:3.3f}\"\n",
    "#     if utime_mean*0.95 <= dict_['up_time'] <= utime_mean*1.05:\n",
    "#         pass\n",
    "#     else:\n",
    "#         append = False\n",
    "        \n",
    "    # 유사도\n",
    "    sim_leg = dict_['similarity']\n",
    "#     advice[5] = \"운동의 전체적인 유사도는 {:2.2f}%입니다.\".format(100 - sim_leg)\n",
    "    advice[5] = f\"{sim_leg:3.3f}\"\n",
    "#     if sim_leg >= 95:\n",
    "#         pass\n",
    "#     else:\n",
    "#         append = False\n",
    "\n",
    "#     if append:\n",
    "#         male_standard.loc[-1] = dict_\n",
    "    return advice"
   ]
  },
  {
   "cell_type": "markdown",
   "metadata": {},
   "source": [
    "### Cycle 통일"
   ]
  },
  {
   "cell_type": "code",
   "execution_count": 23,
   "metadata": {
    "ExecuteTime": {
     "end_time": "2020-08-20T07:37:25.895795Z",
     "start_time": "2020-08-20T07:37:25.876794Z"
    }
   },
   "outputs": [],
   "source": [
    "def synchronize(com_path):\n",
    "    global std_path\n",
    "    std_df = json_to_df(std_path)\n",
    "    com_df = json_to_df(com_path)\n",
    "    std_mid, std_cycle, std_cycle_y = get_cycle(std_path)\n",
    "    com_mid, com_cycle, com_cycle_y = get_cycle(com_path)\n",
    "    \n",
    "    # 전체 데이터프레임에서 한 사이클에 해당하는 부분만 분리\n",
    "    std_down_df = std_df.iloc[min(std_cycle):std_mid+1, :]\n",
    "    std_up_df = std_df.iloc[std_mid+1:max(std_cycle)+1, :]\n",
    "    \n",
    "    com_cycle_df = com_df.iloc[min(com_cycle):max(com_cycle)+1, :]\n",
    "    com_down_df = com_df.iloc[min(com_cycle):com_mid+1, :]\n",
    "    com_up_df = com_df.iloc[com_mid+1:max(com_cycle)+1, :]\n",
    "\n",
    "    if len(com_down_df) == len(std_down_df):\n",
    "        pass\n",
    "    elif len(com_down_df) > len(std_down_df):\n",
    "        lack = len(com_down_df) - len(std_down_df)\n",
    "        append_idx = []\n",
    "        for m in range(lack):\n",
    "            append_idx.append((m+1)*(len(std_down_df)//(lack+1)))\n",
    "        for num in append_idx:\n",
    "            std_down_df.loc[min(std_cycle)+num+0.5] = None\n",
    "        std_down_df.sort_index(inplace = True)\n",
    "        std_down_df.interpolate(method = 'linear', inplace = True)\n",
    "    else:\n",
    "        left = len(std_down_df) - len(com_down_df)\n",
    "        drop_idx = []\n",
    "        for m in range(left):\n",
    "            drop_idx.append(m*(len(std_down_df)//left)+(len(std_down_df)//left)//2)\n",
    "        drop_idx.reverse() #뒤에 있는 인덱스부터 빼줘야 쉽게 빠짐\n",
    "        for num in drop_idx:\n",
    "            std_down_df.drop(min(std_cycle)+num, inplace = True)\n",
    "\n",
    "    if len(com_up_df) == len(std_up_df):\n",
    "        pass\n",
    "    elif len(com_up_df) > len(std_up_df):\n",
    "        lack = len(com_up_df) - len(std_up_df)\n",
    "        append_idx = []\n",
    "        for m in range(lack):\n",
    "            append_idx.append((m+1)*(len(std_up_df)//(lack+1)))\n",
    "        for num in append_idx:\n",
    "            std_up_df.loc[std_mid+num+0.5] = None\n",
    "        std_up_df.sort_index(inplace = True)\n",
    "        std_up_df.interpolate(method = 'linear', inplace = True)\n",
    "    else:\n",
    "        left = len(std_up_df) - len(com_up_df)\n",
    "        drop_idx = []\n",
    "        for m in range(left):\n",
    "            drop_idx.append(m*(len(std_up_df)//left)+(len(std_up_df)//left)//2)\n",
    "        drop_idx.reverse() #뒤에 있는 인덱스부터 빼줘야 쉽게 빠짐\n",
    "        for num in drop_idx:\n",
    "            std_up_df.drop(std_mid+num, inplace = True)\n",
    "\n",
    "    std_cycle_df = pd.concat([std_down_df, std_up_df])\n",
    "    std_cycle_df.sort_index(inplace = True)\n",
    "    \n",
    "    std_start = std_cycle_df.iloc[0]\n",
    "    com_start = com_cycle_df.iloc[0]\n",
    "\n",
    "    # 기준 운동의 관절들을 비교 대상과 동일한 위치로 가져옴\n",
    "    for part in body_part:\n",
    "        diff = std_start[part] - com_start[part]\n",
    "        std_cycle_df[part] -= diff\n",
    "    std_cycle_df.reset_index(drop = True, inplace = True)\n",
    "    com_cycle_df.reset_index(drop = True, inplace = True)\n",
    "    return std_cycle_df, com_cycle_df"
   ]
  },
  {
   "cell_type": "markdown",
   "metadata": {},
   "source": [
    "### 태그마다 기준과 일치하는 프레임 비율 계산"
   ]
  },
  {
   "cell_type": "code",
   "execution_count": 24,
   "metadata": {
    "ExecuteTime": {
     "end_time": "2020-08-20T07:37:25.911796Z",
     "start_time": "2020-08-20T07:37:25.896795Z"
    }
   },
   "outputs": [],
   "source": [
    "def cal_ratio(com_path):\n",
    "    global std_path, body_part, main_body_part\n",
    "    std_cycle_df, com_cycle_df = synchronize(com_path)\n",
    "\n",
    "    length = min(len(std_cycle_df), len(com_cycle_df))\n",
    "    # 기준 범위에서 벗어난 관절 개수 출력\n",
    "    out_info = [] # 범위를 벗어난 프레임 & 관절들 저장\n",
    "    for idx in range(length):\n",
    "        bp_outofrange = [] # 정해진 범위는 벗어난 관절들 모음\n",
    "        for j in list(range(len(main_body_part)//2)):\n",
    "            if cal_distance((std_cycle_df[main_body_part[2*j]][idx], std_cycle_df[main_body_part[2*j+1]][idx]),\\\n",
    "                           (com_cycle_df[main_body_part[2*j]][idx], com_cycle_df[main_body_part[2*j+1]][idx])) <= 20:\n",
    "                pass\n",
    "            else:\n",
    "                bp_outofrange.append(j+1)\n",
    "        out_info.append((idx, bp_outofrange))\n",
    "\n",
    "    frame_ratio = pd.DataFrame(columns = ['Neck', 'RShoulder', 'RElbow', 'RWrist', 'LShoulder', 'LElbow', 'LWrist', 'MidHip',\\\n",
    "                                     'RHip', 'RKnee', 'RAnkle', 'LHip', 'LKnee', 'LAnkle'])\n",
    "    for num in range(1, 15):\n",
    "        frame_list = []\n",
    "        for part in out_info:\n",
    "            if num in part[1]:\n",
    "                frame_list.append(out_info[0])\n",
    "        ratio = 1 - len(frame_list)/len(out_info)\n",
    "        frame_ratio.loc[com_path[-4:-1], frame_ratio.columns[num-1]] = ratio\n",
    "        # row index(com_path[-4:-1]) 수정할 필요 있으면 할 것\n",
    "    return out_info, frame_ratio"
   ]
  },
  {
   "cell_type": "markdown",
   "metadata": {},
   "source": [
    "### 시각화\n",
    "* Time Graph & Similarity Graph\n",
    "* 사용자 영상 배경 + 기준&사용자 스켈레톤\n",
    "* 내려올 때&올라올 때 프레임 수 일치시킴\n",
    "* 기준은 파란색, 기준 범위에서 벗어난 좌표는 빨간색으로 표시"
   ]
  },
  {
   "cell_type": "code",
   "execution_count": 25,
   "metadata": {
    "ExecuteTime": {
     "end_time": "2020-08-20T07:37:25.928797Z",
     "start_time": "2020-08-20T07:37:25.912796Z"
    }
   },
   "outputs": [],
   "source": [
    "def save_pic(com_path):\n",
    "    global std_path\n",
    "    std_mid, std_cycle, std_cycle_y = get_cycle(std_path)\n",
    "    std_x = [el - std_cycle[0] for el in std_cycle]\n",
    "\n",
    "    com_mid, com_cycle, com_cycle_y = get_cycle(com_path)\n",
    "    com_x = [el - com_cycle[0] for el in com_cycle]\n",
    "\n",
    "    plt.plot(std_x, std_cycle_y, c='red')\n",
    "    plt.plot(com_x, com_cycle_y, c='blue')\n",
    "    plt.title('Time Graph')\n",
    "    # 저장 파일명 설정\n",
    "    plt.savefig(f'time_graph_{com_path[-4:-1]}.jpg')\n",
    "    plt.close()\n",
    "\n",
    "    result = compare(com_path, 1, True)"
   ]
  },
  {
   "cell_type": "code",
   "execution_count": 26,
   "metadata": {
    "ExecuteTime": {
     "end_time": "2020-08-20T10:44:49.827911Z",
     "start_time": "2020-08-20T10:44:49.802910Z"
    }
   },
   "outputs": [],
   "source": [
    "def visual_comparing(com_path):\n",
    "    global std_path\n",
    "    std_mod_df, com_mod_df = synchronize(com_path)\n",
    "    out_info, frame_ratio = cal_ratio(com_path)\n",
    "\n",
    "    draw_mod_df = std_mod_df.drop(columns=[\"Angle_Rleg\", \"Angle_Lleg\", \"Angle_waist\"])\n",
    "    mod_df_list = draw_mod_df.values.tolist()\n",
    "\n",
    "    draw_mod_df2 = com_mod_df.drop(columns=[\"Angle_Rleg\", \"Angle_Lleg\", \"Angle_waist\"])\n",
    "    mod_df_list2 = draw_mod_df2.values.tolist()\n",
    "\n",
    "    # 사용자 운동 영상의 경로\n",
    "    workout = cv2.VideoCapture(f\"train_video/train_{com_path[-4:-1]}.mp4\")\n",
    "#     workout = cv2.VideoCapture(f\"new_video/test_{com_path[-4:-1]}.mp4\")\n",
    "#     workout = cv2.VideoCapture(\"D:/링피트/LogiCapture/2020-08-20_14-42-58_90000000000.mp4\")\n",
    "    mid,cycle_x_list,cycle_y_list = get_cycle(com_path)\n",
    "    if workout.isOpened():\n",
    "#         print('width: %d, height: %d' % (workout.get(3), workout.get(4))) # 영상의 너비와 높이 출력\n",
    "\n",
    "        fourcc = cv2.VideoWriter_fourcc(*'mp4v') # 코덱 정의\n",
    "        # 여기도 저장 파일명 확인\n",
    "        out30 = cv2.VideoWriter(f'result_{com_path[-4:-1]}_fps30.mp4', fourcc, 30, (1280, 720)) # VideoWriter 객체 정의\n",
    "        out15 = cv2.VideoWriter(f'result_{com_path[-4:-1]}_fps15.mp4', fourcc, 15, (1280, 720)) # VideoWriter 객체 정의\n",
    "        out06 = cv2.VideoWriter(f'result_{com_path[-4:-1]}_fps6.mp4', fourcc, 6, (1280, 720)) # VideoWriter 객체 정의\n",
    "\n",
    "        i = -cycle_x_list[0] # frame number\n",
    "        while True:\n",
    "            ret, img = workout.read()\n",
    "            i += 1\n",
    "            if i <= 0:\n",
    "                continue\n",
    "\n",
    "            # 색상표\n",
    "            color1_list = [] # 몸통\n",
    "            for temp in range(len(BackAndFace)):\n",
    "                color1 = tuple([100+temp*25]*3)\n",
    "                color1_list.append(color1)\n",
    "\n",
    "            color2_list = [] # 팔\n",
    "            for temp in range(len(RightArm)):\n",
    "                color2 = tuple([100+temp*25]*3)\n",
    "                color2_list.append(color1)\n",
    "\n",
    "            color3_list = [] # 다리\n",
    "            for temp in range(len(RightLeg)):\n",
    "                color3 = tuple([100+temp*25]*3)\n",
    "                color3_list.append(color1)\n",
    "\n",
    "            try:\n",
    "            # draw circle\n",
    "                for j in range(len(body_part_with_confidence)//3): # 관절 갯수 25개\n",
    "                    x = int(mod_df_list[i][3*j]) # x좌표\n",
    "                    x2 = int(mod_df_list2[i][3*j]) # x좌표\n",
    "                    y = int(mod_df_list[i][3*j+1]) # y좌표\n",
    "                    y2 = int(mod_df_list2[i][3*j+1]) # y좌표\n",
    "                    cfd = mod_df_list[i][3*j+2] # confidence score\n",
    "                    cfd2 = mod_df_list2[i][3*j+2] # confidence score\n",
    "                    if int(x) == 0 or int(y) == 0 or cfd <= 0.3:\n",
    "                        continue # 좌표값이 0이거나 그 좌표값에 대한 confidence score가 0인 경우 skip(continue)\n",
    "                    if int(x2) == 0 or int(y2) == 0 or cfd2 <= 0.3:\n",
    "                        continue\n",
    "                    if j in BackAndFace_pt:\n",
    "                        color = color1_list[-1]\n",
    "                    elif j in RightArm_pt + LeftArm_pt:\n",
    "                        color = color2_list[-1]\n",
    "                    elif j in RightLeg_pt + LeftLeg_pt:\n",
    "                        color = color3_list[-1]\n",
    "                    cv2.circle(img, (x,y), int(cfd*10), color,-1) # 색상표 만들어서 얼굴/몸통/팔/다리 색깔구분하기\n",
    "                    cv2.circle(img, (x2,y2), int(cfd2*10), color, -1)\n",
    "\n",
    "                # 한방에!\n",
    "\n",
    "                Body_25 = [BackAndFace, RightArm, LeftArm, RightLeg, LeftLeg]\n",
    "                for a, body in enumerate(Body_25): \n",
    "                    idx = 0\n",
    "                    for pt1, pt2 in body:\n",
    "                        start = (int(mod_df_list[i][3*pt1]), int(mod_df_list[i][3*pt1+1]))\n",
    "                        end = (int(mod_df_list[i][3*pt2]), int(mod_df_list[i][3*pt2+1]))\n",
    "\n",
    "                        start2 = (int(mod_df_list2[i][3*pt1]), int(mod_df_list2[i][3*pt1+1]))\n",
    "                        end2 = (int(mod_df_list2[i][3*pt2]), int(mod_df_list2[i][3*pt2+1]))\n",
    "\n",
    "                        if 0 in (start[0], start[1], end[0], end[1], start2[0], start2[1], end2[0], end2[1]):\n",
    "                            continue\n",
    "                        thickness = int((mod_df_list[i][3*pt1+2] + mod_df_list[i][3*pt2+2])*5)\n",
    "                        thickness2 = int((mod_df_list2[i][3*pt1+2] + mod_df_list2[i][3*pt2+2])*5)\n",
    "\n",
    "                        if a == 0:\n",
    "                            color = color1_list[idx]\n",
    "                            color2 = color1_list[idx]\n",
    "                        elif a == 1 or a == 2:\n",
    "                            color = color2_list[idx]\n",
    "                            color2 = color2_list[idx]\n",
    "                        elif a == 3 or a == 4:\n",
    "                            color = color3_list[idx]\n",
    "                            color2 = color3_list[idx]\n",
    "                            if (pt1 in out_info[i][1]) or (pt2 in out_info[i][1]):\n",
    "                                color = (0, 0, 255) # 기준은 빨간색\n",
    "                                color2 = (255, 0, 0) # 사용자 영상은 파란색\n",
    "                        cv2.line(img, start, end, color, thickness)\n",
    "                        cv2.line(img, start2, end2, color2, thickness2)\n",
    "                        idx += 1\n",
    "\n",
    "            except:\n",
    "                break\n",
    "\n",
    "            out30.write(img) # fps30\n",
    "            out15.write(img) # fps15\n",
    "            out06.write(img) # fps6\n",
    "\n",
    "            if ret:\n",
    "                cv2.imshow('Visual Comparing', img)\n",
    "                if cv2.waitKey(30) & 0xFF == 27:\n",
    "                    break\n",
    "            else:\n",
    "                break\n",
    "    else:\n",
    "        print(\"No Video\")\n",
    "    workout.release()\n",
    "    cv2.destroyAllWindows()\n",
    "    \n",
    "    save_pic(com_path)"
   ]
  },
  {
   "cell_type": "markdown",
   "metadata": {},
   "source": [
    "### 이 모든 걸 한방에"
   ]
  },
  {
   "cell_type": "code",
   "execution_count": 27,
   "metadata": {
    "ExecuteTime": {
     "end_time": "2020-08-20T08:55:18.861073Z",
     "start_time": "2020-08-20T08:55:18.848072Z"
    }
   },
   "outputs": [],
   "source": [
    "def ringfit(com_path, gender):\n",
    "    global male_train, female_train\n",
    "    test = pd.DataFrame(columns = ['min_angle_lleg', 'min_angle_rleg', 'min_angle_waist',\\\n",
    "         'down_time', 'up_time', 'similarity'])\n",
    "    result = compare(com_path, gender)\n",
    "    output = squat(result, gender)\n",
    "    test.loc[com_path[-4:-1]] = result\n",
    "\n",
    "    if gender == 1:\n",
    "        train_df = male_train.drop(['RElbow', 'RWrist', 'LElbow', 'LWrist', 'RAnkle', 'LAnkle'], axis = 1)\n",
    "        train_x = train_df.iloc[:, :-1]\n",
    "        train_y = train_df.iloc[:, -1]\n",
    "\n",
    "    elif gender == 2:\n",
    "        train_df = female_train.drop(['RElbow', 'RWrist', 'LElbow', 'LWrist', 'RAnkle', 'LAnkle'], axis = 1)\n",
    "        train_x = female_train.iloc[:, :-1]\n",
    "        train_y = female_train.iloc[:, -1]\n",
    "    else:\n",
    "        print(\"Unavailable Gender\")\n",
    "\n",
    "    out_info, ratio_df = cal_ratio(com_path)\n",
    "    test = pd.concat([test, ratio_df], axis = 1)\n",
    "    test['grade'] = None\n",
    "    # 사용자 영상도 전체 운동 데이터프레임에 추가\n",
    "    #     if gender == 1:\n",
    "    #         new_train = pd.concat([male_train, test], axis = 0)\n",
    "    #     elif gender == 2:\n",
    "    #         new_train = pd.concat([female_train, test], axis = 0)\n",
    "    test.drop(['RElbow', 'RWrist', 'LElbow', 'LWrist', 'RAnkle', 'LAnkle', 'grade'], axis = 1, inplace = True)\n",
    "\n",
    "    ## 여기부터 머신러닝\n",
    "    # import한 모델로 머신러닝 모델 만들어서 돌리면 됨\n",
    "    predict_result = []\n",
    "    for _ in range(10):\n",
    "        mlp = MLPClassifier(solver = 'lbfgs', max_iter = 500, early_stopping = True)\n",
    "        mlp.fit(train_x, train_y)\n",
    "        test_x = test \n",
    "        predict_result.append(mlp.predict(test_x)[0])\n",
    "#         print(mlp.predict(test_x))\n",
    "#         print(mlp.predict_proba(test_x))\n",
    "    result_idx, count = 0, 0\n",
    "    for idx, el in enumerate(['A', 'B', 'C', 'F']):\n",
    "        if count < predict_result.count(el):\n",
    "            count = predict_result.count(el)\n",
    "            result_idx = idx\n",
    "    final_grade = ['A', 'B', 'C', 'F'][result_idx]\n",
    "    output['grade'] = final_grade\n",
    "    # 사용자 영상의 grade 반영\n",
    "#     new_train.iloc[-1, -1] = final_grade\n",
    "#     if gender == 1:\n",
    "#         new_train.to_csv(\"male_train_with_frame.csv\", index = False)\n",
    "#     elif gender == 2:\n",
    "#         new_train.to_csv(\"female_train_with_frame.csv\", index = False)\n",
    "    \n",
    "    with open(f'ringfit_output_{com_path[-4:-1]}.json', 'w') as ringfit:\n",
    "        json.dump(output, ringfit)\n",
    "    \n",
    "    visual_comparing(com_path)\n",
    "    \n",
    "    return"
   ]
  },
  {
   "cell_type": "markdown",
   "metadata": {},
   "source": [
    "## DataFrame 생성\n",
    "* csv 가지고 있으면 안 돌려도 되는 부분"
   ]
  },
  {
   "cell_type": "code",
   "execution_count": 46,
   "metadata": {
    "ExecuteTime": {
     "end_time": "2020-08-21T00:38:31.572991Z",
     "start_time": "2020-08-21T00:38:31.534989Z"
    },
    "scrolled": true
   },
   "outputs": [
    {
     "name": "stdout",
     "output_type": "stream",
     "text": [
      "[0, 1, 2, 3, 4, 5, 6, 7, 8, 9, 10, 11, 12, 13, 14, 15, 16, 17, 18, 19, 20, 21, 22, 23, 24, 25, 26, 27, 28, 29, 30, 31, 32, 33, 34, 35, 36, 37, 38, 39, 40, 41, 42, 43, 44, 45, 46, 47, 48, 49, 50, 51, 52, 53, 54, 55, 56, 57, 58, 59, 60, 61, 62, 63, 64, 65, 66, 67, 68, 69, 70, 71, 72, 73, 74, 75, 76, 77, 78, 79, 80, 81, 82, 83, 84, 85, 86, 87, 88, 89, 90, 91, 92, 93, 94, 95, 96, 97, 98, 99, 100, 101, 102, 141, 142, 143, 144, 145, 146, 147, 148, 149, 150, 151, 152, 153, 154, 155, 156, 157, 158, 159, 160, 161, 162, 163, 164, 165, 166, 167, 168, 169, 170, 171, 172, 173, 174, 175, 176, 177, 178, 179, 180, 181, 182, 183, 184, 185, 186, 187, 188, 189, 190, 191, 192, 193, 194, 195, 196, 197, 198, 199, 200, 201, 202, 203, 204, 205, 206, 207, 208, 209, 210, 211, 212, 213, 214, 215, 216, 217, 218, 219, 220, 221, 222, 223, 224, 225, 226, 227, 228, 229, 230, 231, 232, 233, 234, 235, 236, 237, 238, 239]\n",
      "[103, 104, 105, 106, 107, 108, 109, 110, 111, 112, 113, 114, 115, 116, 117, 118, 119, 120, 121, 122, 123, 124, 125, 126, 127, 128, 129, 130, 131, 132, 133, 134, 135, 136, 137, 138, 139, 140]\n"
     ]
    }
   ],
   "source": [
    "# # 남자만 있으니까 male만 만들게요\n",
    "# # 이제 돌렸으니까 필요 없음\n",
    "# std_path = 'train_data_240_json/001/'\n",
    "# label_data = pd.read_csv(\"new_data_labeling_2.csv\", header = None)\n",
    "# male_idx = []\n",
    "# male_test_idx = []\n",
    "# # female_idx = []\n",
    "# for idx in range(len(label_data)):\n",
    "#     if label_data[1][idx] in ('훈석', '정우'):\n",
    "#         male_idx.append(idx)\n",
    "#     else:\n",
    "#         male_test_idx.append(idx)\n",
    "# #     elif label_data[1][idx] in ('누군가'):\n",
    "# #         female_idx.append(idx)\n",
    "# print(male_idx)\n",
    "# # print(female_idx)\n",
    "# print(male_test_idx)\n",
    "\n",
    "# # 주석 처리한 부분 -> 새로운 생성 데이터 경로로 바꿀 것\n",
    "# # 남자\n",
    "# gender = 1\n",
    "# male_train = pd.DataFrame(columns = ['min_angle_lleg', 'min_angle_rleg', 'min_angle_waist',\\\n",
    "#              'down_time', 'up_time', 'similarity', 'grade'])\n",
    "# ratio_df = pd.DataFrame(columns = ['Neck', 'RShoulder', 'RElbow', 'RWrist', 'LShoulder', 'LElbow', 'LWrist', 'MidHip',\\\n",
    "#                              'RHip', 'RKnee', 'RAnkle', 'LHip', 'LKnee', 'LAnkle'])\n",
    "# for idx in male_idx:\n",
    "#     try:\n",
    "#         path = f'train_data_240_json/{idx:03d}/'\n",
    "#         result = compare(path, gender)\n",
    "#         if label_data[0][idx] == 'A':\n",
    "#             result['grade'] = 'A'\n",
    "#         elif label_data[0][idx] == 'B':\n",
    "#             result['grade'] = 'B'\n",
    "#         elif label_data[0][idx] == 'C':\n",
    "#             result['grade'] = 'C'\n",
    "#         elif label_data[0][idx] == 'F':\n",
    "#             result['grade'] = 'F'\n",
    "#         male_train.loc[f\"{idx:03d}\"] = result\n",
    "\n",
    "#         out_info, df = cal_ratio(path)\n",
    "#         ratio_df = pd.concat([ratio_df, df], axis = 0)\n",
    "#     except:\n",
    "#         pass\n",
    "\n",
    "# male_train_2 = pd.concat([male_train, ratio_df], axis = 1)\n",
    "# grade = male_train_2['grade']\n",
    "# male_train_2.drop(['grade'], axis = 1, inplace = True)\n",
    "# male_train_2['grade'] = grade\n",
    "# male_train_2 = male_train_2.dropna()\n",
    "# male_train_2.to_csv(\"male_train_with_frame.csv\", index = False)\n",
    "# #male_train_2\n",
    "\n",
    "# ###########################################나중에 여자 데이터 생성하면 돌릴 부분###########################################\n",
    "# # gender = 2\n",
    "# # female_train = pd.DataFrame(columns = ['min_angle_lleg', 'min_angle_rleg', 'min_angle_waist',\\\n",
    "# #              'down_time', 'up_time', 'similarity', 'grade'])\n",
    "# # ratio_df = pd.DataFrame(columns = ['Neck', 'RShoulder', 'RElbow', 'RWrist', 'LShoulder', 'LElbow', 'LWrist', 'MidHip',\\\n",
    "# #                              'RHip', 'RKnee', 'RAnkle', 'LHip', 'LKnee', 'LAnkle'])\n",
    "# # for idx in female_idx:\n",
    "# #     try:\n",
    "# # #         path = f'./new_data/{idx:03d}/'\n",
    "# #         result = compare(path, gender)\n",
    "# #         if label_data[1][idx] == 'a':\n",
    "# #             result['grade'] = 'A'\n",
    "# #         elif label_data[1][idx] in ('b', 'a/b'):\n",
    "# #             result['grade'] = 'B'\n",
    "# #         elif label_data[1][idx] in ('c', 'b/c'):\n",
    "# #             result['grade'] = 'C'\n",
    "# #         elif label_data[1][idx] in ('f', 'c/f'):\n",
    "# #             result['grade'] = 'F'\n",
    "# #         female_train.loc[f\"{idx:03d}\"] = result\n",
    "        \n",
    "# #         out_info, df = cal_ratio(path)\n",
    "# #         ratio_df = pd.concat([ratio_df, df], axis = 0)\n",
    "# #     except:\n",
    "# #         pass\n",
    "\n",
    "# # female_train_2 = pd.concat([female_train, ratio_df], axis = 1)\n",
    "# # grade = female_train_2['grade']\n",
    "# # female_train_2.drop(['grade'], axis = 1, inplace = True)\n",
    "# # female_train_2['grade'] = grade\n",
    "# # female_train_2 = female_train_2.dropna()\n",
    "# # female_train_2.to_csv(\"female_train_with_frame.csv\", index = False)\n",
    "# # female_train_2\n",
    "# ###########################################나중에 여자 데이터 생성하면 돌릴 부분###########################################"
   ]
  },
  {
   "cell_type": "markdown",
   "metadata": {},
   "source": [
    "# Main"
   ]
  },
  {
   "cell_type": "code",
   "execution_count": 29,
   "metadata": {
    "ExecuteTime": {
     "end_time": "2020-08-20T08:56:07.022828Z",
     "start_time": "2020-08-20T08:55:59.156378Z"
    },
    "scrolled": true
   },
   "outputs": [],
   "source": [
    "#####################################하기 전에######################################\n",
    "# 비교할 영상의 경로 -> JSON파일이 담긴 경로\n",
    "# gender: 1. 남자 // 2. 여자\n",
    "# visual_comparing 함수의 video 경로 설정\n",
    "# 기타 함수들의 저장 파일명 설정\n",
    "#####################################하기 전에######################################\n",
    "\n",
    "com_path = 'new_data/062/'\n",
    "# com_path = f'train_data_240_json/240/'"
   ]
  },
  {
   "cell_type": "code",
   "execution_count": null,
   "metadata": {},
   "outputs": [
    {
     "name": "stderr",
     "output_type": "stream",
     "text": [
      "/home/centos/anaconda3/lib/python3.6/site-packages/pandas/core/indexing.py:670: SettingWithCopyWarning: \n",
      "A value is trying to be set on a copy of a slice from a DataFrame\n",
      "\n",
      "See the caveats in the documentation: https://pandas.pydata.org/pandas-docs/stable/user_guide/indexing.html#returning-a-view-versus-a-copy\n",
      "  iloc._setitem_with_indexer(indexer, value)\n",
      "/home/centos/anaconda3/lib/python3.6/site-packages/ipykernel_launcher.py:25: SettingWithCopyWarning: \n",
      "A value is trying to be set on a copy of a slice from a DataFrame\n",
      "\n",
      "See the caveats in the documentation: https://pandas.pydata.org/pandas-docs/stable/user_guide/indexing.html#returning-a-view-versus-a-copy\n",
      "/home/centos/anaconda3/lib/python3.6/site-packages/ipykernel_launcher.py:26: SettingWithCopyWarning: \n",
      "A value is trying to be set on a copy of a slice from a DataFrame\n",
      "\n",
      "See the caveats in the documentation: https://pandas.pydata.org/pandas-docs/stable/user_guide/indexing.html#returning-a-view-versus-a-copy\n",
      "/home/centos/anaconda3/lib/python3.6/site-packages/ipykernel_launcher.py:45: SettingWithCopyWarning: \n",
      "A value is trying to be set on a copy of a slice from a DataFrame\n",
      "\n",
      "See the caveats in the documentation: https://pandas.pydata.org/pandas-docs/stable/user_guide/indexing.html#returning-a-view-versus-a-copy\n",
      "/home/centos/anaconda3/lib/python3.6/site-packages/ipykernel_launcher.py:46: SettingWithCopyWarning: \n",
      "A value is trying to be set on a copy of a slice from a DataFrame\n",
      "\n",
      "See the caveats in the documentation: https://pandas.pydata.org/pandas-docs/stable/user_guide/indexing.html#returning-a-view-versus-a-copy\n"
     ]
    },
    {
     "name": "stdout",
     "output_type": "stream",
     "text": [
      "['A']\n",
      "[[1.00000000e+00 2.64188934e-14 2.41636988e-48 1.01479102e-62]]\n",
      "['A']\n",
      "[[9.93245920e-001 6.75408034e-003 5.07338594e-168 2.25571549e-178]]\n",
      "['B']\n",
      "[[3.72592038e-03 9.96274080e-01 1.61106699e-43 1.15564992e-88]]\n",
      "['B']\n",
      "[[6.78891770e-02 9.32110823e-01 4.03656204e-27 1.38013900e-53]]\n",
      "['B']\n",
      "[[1.58194895e-001 8.41805105e-001 5.77147128e-130 2.88319913e-318]]\n",
      "['A']\n",
      "[[9.99565111e-01 4.34889488e-04 2.28828360e-40 1.35268291e-82]]\n",
      "['A']\n",
      "[[7.32844063e-01 2.67155937e-01 3.03727522e-46 2.61214908e-68]]\n",
      "['B']\n",
      "[[3.83558420e-004 9.99616442e-001 1.37415359e-050 6.49214559e-150]]\n",
      "['B']\n",
      "[[1.23663611e-002 9.87633639e-001 2.50003694e-150 2.03166104e-275]]\n",
      "['A']\n",
      "[[1.00000000e+000 2.97284290e-040 1.52325108e-183 0.00000000e+000]]\n",
      "width: 1280, height: 720\n"
     ]
    }
   ],
   "source": [
    "ringfit(com_path, 1)"
   ]
  },
  {
   "cell_type": "markdown",
   "metadata": {},
   "source": [
    "# 이 위까지 메인 부분 #"
   ]
  },
  {
   "cell_type": "markdown",
   "metadata": {},
   "source": [
    "# ML"
   ]
  },
  {
   "cell_type": "markdown",
   "metadata": {},
   "source": [
    "## MLPClassifier - developed"
   ]
  },
  {
   "cell_type": "code",
   "execution_count": 30,
   "metadata": {
    "ExecuteTime": {
     "end_time": "2020-08-20T07:38:12.299449Z",
     "start_time": "2020-08-20T07:38:11.409398Z"
    }
   },
   "outputs": [
    {
     "name": "stderr",
     "output_type": "stream",
     "text": [
      "/home/centos/anaconda3/lib/python3.6/site-packages/pandas/core/indexing.py:670: SettingWithCopyWarning: \n",
      "A value is trying to be set on a copy of a slice from a DataFrame\n",
      "\n",
      "See the caveats in the documentation: https://pandas.pydata.org/pandas-docs/stable/user_guide/indexing.html#returning-a-view-versus-a-copy\n",
      "  iloc._setitem_with_indexer(indexer, value)\n",
      "/home/centos/anaconda3/lib/python3.6/site-packages/ipykernel_launcher.py:25: SettingWithCopyWarning: \n",
      "A value is trying to be set on a copy of a slice from a DataFrame\n",
      "\n",
      "See the caveats in the documentation: https://pandas.pydata.org/pandas-docs/stable/user_guide/indexing.html#returning-a-view-versus-a-copy\n",
      "/home/centos/anaconda3/lib/python3.6/site-packages/ipykernel_launcher.py:26: SettingWithCopyWarning: \n",
      "A value is trying to be set on a copy of a slice from a DataFrame\n",
      "\n",
      "See the caveats in the documentation: https://pandas.pydata.org/pandas-docs/stable/user_guide/indexing.html#returning-a-view-versus-a-copy\n",
      "/home/centos/anaconda3/lib/python3.6/site-packages/pandas/core/frame.py:4164: SettingWithCopyWarning: \n",
      "A value is trying to be set on a copy of a slice from a DataFrame\n",
      "\n",
      "See the caveats in the documentation: https://pandas.pydata.org/pandas-docs/stable/user_guide/indexing.html#returning-a-view-versus-a-copy\n",
      "  errors=errors,\n"
     ]
    },
    {
     "name": "stdout",
     "output_type": "stream",
     "text": [
      "['B']\n",
      "[[4.63040665e-16 9.99951549e-01 8.08321532e-06 4.03677097e-05]]\n",
      "['B']\n",
      "[[3.97778283e-12 9.91842073e-01 8.15792655e-03 4.08635775e-34]]\n",
      "['B']\n",
      "[[4.08952671e-137 1.00000000e+000 9.34441615e-019 8.94982012e-309]]\n",
      "['B']\n",
      "[[2.79964544e-05 9.99946932e-01 2.50715225e-05 3.50828097e-16]]\n",
      "['B']\n",
      "[[1.79665296e-26 1.00000000e+00 1.21014270e-15 5.25979874e-54]]\n",
      "['B']\n",
      "[[1.32501057e-38 1.00000000e+00 6.58033150e-69 4.84357293e-35]]\n",
      "['B']\n",
      "[[1.24928722e-11 1.00000000e+00 1.14866168e-17 7.39091529e-24]]\n",
      "['B']\n",
      "[[2.48131883e-10 9.92533220e-01 7.46677951e-03 1.29398574e-36]]\n",
      "['B']\n",
      "[[8.38278626e-10 9.99992766e-01 7.23292446e-06 9.68783605e-38]]\n",
      "['B']\n",
      "[[1.66391820e-15 9.96225333e-01 3.77466697e-03 9.42700252e-15]]\n",
      "['B', 'B', 'B', 'B', 'B', 'B', 'B', 'B', 'B', 'B']\n",
      "B\n"
     ]
    }
   ],
   "source": [
    "# 예측할 영상 넣기\n",
    "# com_path랑 gender만 설정해주고 나머지는 건드릴 필요 X\n",
    "com_path = 'train_data_240_json/077/'\n",
    "# com_path = 'new_data/010/'\n",
    "gender = 1\n",
    "\n",
    "if gender == 1:\n",
    "    train_df = male_train.drop(['RElbow', 'RWrist', 'LElbow', 'LWrist', 'RAnkle', 'LAnkle'], axis = 1)\n",
    "    train_x = train_df.iloc[:, :-1]\n",
    "    train_y = train_df.iloc[:, -1]\n",
    "\n",
    "elif gender == 2:\n",
    "    train_df = female_train.drop(['RElbow', 'RWrist', 'LElbow', 'LWrist', 'RAnkle', 'LAnkle'], axis = 1)\n",
    "    train_x = female_train.iloc[:, :-1]\n",
    "    train_y = female_train.iloc[:, -1]\n",
    "else:\n",
    "    print(\"Unavailable Gender\")\n",
    "    \n",
    "    \n",
    "test = pd.DataFrame(columns = ['min_angle_lleg', 'min_angle_rleg', 'min_angle_waist',\\\n",
    "     'down_time', 'up_time', 'similarity'])\n",
    "result = compare(com_path, gender)\n",
    "output = squat(result, gender)\n",
    "test.loc[com_path[-4:-1]] = result\n",
    "\n",
    "out_info, ratio_df = cal_ratio(com_path)\n",
    "test = pd.concat([test, ratio_df], axis = 1)\n",
    "test['grade'] = None\n",
    "# 사용자 영상도 전체 운동 데이터프레임에 추가\n",
    "#     if gender == 1:\n",
    "#         new_train = pd.concat([male_train, test], axis = 0)\n",
    "#     elif gender == 2:\n",
    "#         new_train = pd.concat([female_train, test], axis = 0)\n",
    "test.drop(['RElbow', 'RWrist', 'LElbow', 'LWrist', 'RAnkle', 'LAnkle', 'grade'], axis = 1, inplace = True)\n",
    "\n",
    "## 여기부터 머신러닝\n",
    "# import한 모델로 머신러닝 모델 만들어서 돌리면 됨\n",
    "predict_result = []\n",
    "for _ in range(10):\n",
    "    mlp = MLPClassifier(solver = 'lbfgs', max_iter = 500, early_stopping = True)\n",
    "    mlp.fit(train_x, train_y)\n",
    "    test_x = test\n",
    "    predict_result.append(mlp.predict(test_x)[0])\n",
    "    print(mlp.predict(test_x))\n",
    "    print(mlp.predict_proba(test_x))\n",
    "result_idx, count = 0, 0\n",
    "for idx, el in enumerate(['A', 'B', 'C', 'F']):\n",
    "    if count < predict_result.count(el):\n",
    "        count = predict_result.count(el)\n",
    "        result_idx = idx\n",
    "final_grade = ['A', 'B', 'C', 'F'][result_idx]\n",
    "print(predict_result)\n",
    "print(final_grade)"
   ]
  },
  {
   "cell_type": "markdown",
   "metadata": {},
   "source": [
    "## Random Forest"
   ]
  },
  {
   "cell_type": "code",
   "execution_count": 97,
   "metadata": {
    "ExecuteTime": {
     "end_time": "2020-08-20T07:38:16.366682Z",
     "start_time": "2020-08-20T07:38:16.215673Z"
    },
    "scrolled": true
   },
   "outputs": [
    {
     "name": "stderr",
     "output_type": "stream",
     "text": [
      "/home/centos/anaconda3/lib/python3.6/site-packages/pandas/core/indexing.py:670: SettingWithCopyWarning: \n",
      "A value is trying to be set on a copy of a slice from a DataFrame\n",
      "\n",
      "See the caveats in the documentation: https://pandas.pydata.org/pandas-docs/stable/user_guide/indexing.html#returning-a-view-versus-a-copy\n",
      "  iloc._setitem_with_indexer(indexer, value)\n",
      "/home/centos/anaconda3/lib/python3.6/site-packages/ipykernel_launcher.py:25: SettingWithCopyWarning: \n",
      "A value is trying to be set on a copy of a slice from a DataFrame\n",
      "\n",
      "See the caveats in the documentation: https://pandas.pydata.org/pandas-docs/stable/user_guide/indexing.html#returning-a-view-versus-a-copy\n",
      "/home/centos/anaconda3/lib/python3.6/site-packages/ipykernel_launcher.py:26: SettingWithCopyWarning: \n",
      "A value is trying to be set on a copy of a slice from a DataFrame\n",
      "\n",
      "See the caveats in the documentation: https://pandas.pydata.org/pandas-docs/stable/user_guide/indexing.html#returning-a-view-versus-a-copy\n",
      "/home/centos/anaconda3/lib/python3.6/site-packages/pandas/core/frame.py:4164: SettingWithCopyWarning: \n",
      "A value is trying to be set on a copy of a slice from a DataFrame\n",
      "\n",
      "See the caveats in the documentation: https://pandas.pydata.org/pandas-docs/stable/user_guide/indexing.html#returning-a-view-versus-a-copy\n",
      "  errors=errors,\n",
      "/home/centos/anaconda3/lib/python3.6/site-packages/ipykernel_launcher.py:45: SettingWithCopyWarning: \n",
      "A value is trying to be set on a copy of a slice from a DataFrame\n",
      "\n",
      "See the caveats in the documentation: https://pandas.pydata.org/pandas-docs/stable/user_guide/indexing.html#returning-a-view-versus-a-copy\n",
      "/home/centos/anaconda3/lib/python3.6/site-packages/ipykernel_launcher.py:46: SettingWithCopyWarning: \n",
      "A value is trying to be set on a copy of a slice from a DataFrame\n",
      "\n",
      "See the caveats in the documentation: https://pandas.pydata.org/pandas-docs/stable/user_guide/indexing.html#returning-a-view-versus-a-copy\n"
     ]
    },
    {
     "name": "stdout",
     "output_type": "stream",
     "text": [
      "37\n"
     ]
    },
    {
     "ename": "ValueError",
     "evalue": "Input contains NaN, infinity or a value too large for dtype('float32').",
     "output_type": "error",
     "traceback": [
      "\u001b[0;31m---------------------------------------------------------------------------\u001b[0m",
      "\u001b[0;31mValueError\u001b[0m                                Traceback (most recent call last)",
      "\u001b[0;32m<ipython-input-97-1681746f920b>\u001b[0m in \u001b[0;36m<module>\u001b[0;34m()\u001b[0m\n\u001b[1;32m     48\u001b[0m \u001b[0;34m\u001b[0m\u001b[0m\n\u001b[1;32m     49\u001b[0m \u001b[0mrf_model\u001b[0m \u001b[0;34m=\u001b[0m \u001b[0mRandomForestClassifier\u001b[0m\u001b[0;34m(\u001b[0m\u001b[0mn_estimators\u001b[0m\u001b[0;34m=\u001b[0m\u001b[0;36m100\u001b[0m\u001b[0;34m)\u001b[0m\u001b[0;34m\u001b[0m\u001b[0;34m\u001b[0m\u001b[0m\n\u001b[0;32m---> 50\u001b[0;31m \u001b[0mrf_model\u001b[0m\u001b[0;34m.\u001b[0m\u001b[0mfit\u001b[0m\u001b[0;34m(\u001b[0m\u001b[0mtest_x\u001b[0m\u001b[0;34m,\u001b[0m \u001b[0mtest_y\u001b[0m\u001b[0;34m)\u001b[0m\u001b[0;34m\u001b[0m\u001b[0;34m\u001b[0m\u001b[0m\n\u001b[0m\u001b[1;32m     51\u001b[0m \u001b[0my_pred\u001b[0m\u001b[0;34m=\u001b[0m\u001b[0mrf_model\u001b[0m\u001b[0;34m.\u001b[0m\u001b[0mpredict\u001b[0m\u001b[0;34m(\u001b[0m\u001b[0mtest_x\u001b[0m\u001b[0;34m)\u001b[0m\u001b[0;34m\u001b[0m\u001b[0;34m\u001b[0m\u001b[0m\n\u001b[1;32m     52\u001b[0m \u001b[0my_pred\u001b[0m\u001b[0;34m\u001b[0m\u001b[0;34m\u001b[0m\u001b[0m\n",
      "\u001b[0;32m~/anaconda3/lib/python3.6/site-packages/sklearn/ensemble/forest.py\u001b[0m in \u001b[0;36mfit\u001b[0;34m(self, X, y, sample_weight)\u001b[0m\n\u001b[1;32m    245\u001b[0m         \"\"\"\n\u001b[1;32m    246\u001b[0m         \u001b[0;31m# Validate or convert input data\u001b[0m\u001b[0;34m\u001b[0m\u001b[0;34m\u001b[0m\u001b[0;34m\u001b[0m\u001b[0m\n\u001b[0;32m--> 247\u001b[0;31m         \u001b[0mX\u001b[0m \u001b[0;34m=\u001b[0m \u001b[0mcheck_array\u001b[0m\u001b[0;34m(\u001b[0m\u001b[0mX\u001b[0m\u001b[0;34m,\u001b[0m \u001b[0maccept_sparse\u001b[0m\u001b[0;34m=\u001b[0m\u001b[0;34m\"csc\"\u001b[0m\u001b[0;34m,\u001b[0m \u001b[0mdtype\u001b[0m\u001b[0;34m=\u001b[0m\u001b[0mDTYPE\u001b[0m\u001b[0;34m)\u001b[0m\u001b[0;34m\u001b[0m\u001b[0;34m\u001b[0m\u001b[0m\n\u001b[0m\u001b[1;32m    248\u001b[0m         \u001b[0my\u001b[0m \u001b[0;34m=\u001b[0m \u001b[0mcheck_array\u001b[0m\u001b[0;34m(\u001b[0m\u001b[0my\u001b[0m\u001b[0;34m,\u001b[0m \u001b[0maccept_sparse\u001b[0m\u001b[0;34m=\u001b[0m\u001b[0;34m'csc'\u001b[0m\u001b[0;34m,\u001b[0m \u001b[0mensure_2d\u001b[0m\u001b[0;34m=\u001b[0m\u001b[0;32mFalse\u001b[0m\u001b[0;34m,\u001b[0m \u001b[0mdtype\u001b[0m\u001b[0;34m=\u001b[0m\u001b[0;32mNone\u001b[0m\u001b[0;34m)\u001b[0m\u001b[0;34m\u001b[0m\u001b[0;34m\u001b[0m\u001b[0m\n\u001b[1;32m    249\u001b[0m         \u001b[0;32mif\u001b[0m \u001b[0msample_weight\u001b[0m \u001b[0;32mis\u001b[0m \u001b[0;32mnot\u001b[0m \u001b[0;32mNone\u001b[0m\u001b[0;34m:\u001b[0m\u001b[0;34m\u001b[0m\u001b[0;34m\u001b[0m\u001b[0m\n",
      "\u001b[0;32m~/anaconda3/lib/python3.6/site-packages/sklearn/utils/validation.py\u001b[0m in \u001b[0;36mcheck_array\u001b[0;34m(array, accept_sparse, dtype, order, copy, force_all_finite, ensure_2d, allow_nd, ensure_min_samples, ensure_min_features, warn_on_dtype, estimator)\u001b[0m\n\u001b[1;32m    451\u001b[0m                              % (array.ndim, estimator_name))\n\u001b[1;32m    452\u001b[0m         \u001b[0;32mif\u001b[0m \u001b[0mforce_all_finite\u001b[0m\u001b[0;34m:\u001b[0m\u001b[0;34m\u001b[0m\u001b[0;34m\u001b[0m\u001b[0m\n\u001b[0;32m--> 453\u001b[0;31m             \u001b[0m_assert_all_finite\u001b[0m\u001b[0;34m(\u001b[0m\u001b[0marray\u001b[0m\u001b[0;34m)\u001b[0m\u001b[0;34m\u001b[0m\u001b[0;34m\u001b[0m\u001b[0m\n\u001b[0m\u001b[1;32m    454\u001b[0m \u001b[0;34m\u001b[0m\u001b[0m\n\u001b[1;32m    455\u001b[0m     \u001b[0mshape_repr\u001b[0m \u001b[0;34m=\u001b[0m \u001b[0m_shape_repr\u001b[0m\u001b[0;34m(\u001b[0m\u001b[0marray\u001b[0m\u001b[0;34m.\u001b[0m\u001b[0mshape\u001b[0m\u001b[0;34m)\u001b[0m\u001b[0;34m\u001b[0m\u001b[0;34m\u001b[0m\u001b[0m\n",
      "\u001b[0;32m~/anaconda3/lib/python3.6/site-packages/sklearn/utils/validation.py\u001b[0m in \u001b[0;36m_assert_all_finite\u001b[0;34m(X)\u001b[0m\n\u001b[1;32m     42\u001b[0m             and not np.isfinite(X).all()):\n\u001b[1;32m     43\u001b[0m         raise ValueError(\"Input contains NaN, infinity\"\n\u001b[0;32m---> 44\u001b[0;31m                          \" or a value too large for %r.\" % X.dtype)\n\u001b[0m\u001b[1;32m     45\u001b[0m \u001b[0;34m\u001b[0m\u001b[0m\n\u001b[1;32m     46\u001b[0m \u001b[0;34m\u001b[0m\u001b[0m\n",
      "\u001b[0;31mValueError\u001b[0m: Input contains NaN, infinity or a value too large for dtype('float32')."
     ]
    }
   ],
   "source": [
    "from sklearn.ensemble import RandomForestClassifier\n",
    "\n",
    "gender = 1\n",
    "if gender == 1:\n",
    "    train_df = male_train.drop(['RElbow', 'RWrist', 'LElbow', 'LWrist', 'RAnkle', 'LAnkle'], axis = 1)\n",
    "    train_x = train_df.iloc[:, :-1]\n",
    "    train_y = train_df.iloc[:, -1]\n",
    "\n",
    "elif gender == 2:\n",
    "    train_df = female_train.drop(['RElbow', 'RWrist', 'LElbow', 'LWrist', 'RAnkle', 'LAnkle'], axis = 1)\n",
    "    train_x = female_train.iloc[:, :-1]\n",
    "    train_y = female_train.iloc[:, -1]\n",
    "else:\n",
    "    print(\"Unavailable Gender\")\n",
    "\n",
    "##############################################################################################\n",
    "male_test = pd.DataFrame(columns = ['min_angle_lleg', 'min_angle_rleg', 'min_angle_waist',\\\n",
    "             'down_time', 'up_time', 'similarity', 'grade'])\n",
    "ratio_df = pd.DataFrame(columns = ['Neck', 'RShoulder', 'RElbow', 'RWrist', 'LShoulder', 'LElbow', 'LWrist', 'MidHip',\\\n",
    "                             'RHip', 'RKnee', 'RAnkle', 'LHip', 'LKnee', 'LAnkle'])\n",
    "for idx in male_test_idx:\n",
    "    try:\n",
    "        path = f'train_data_240_json/{idx+1:03d}/'\n",
    "        result = compare(path, gender)\n",
    "        if label_data[0][idx] == 'A':\n",
    "            result['grade'] = 'A'\n",
    "        elif label_data[0][idx] == 'B':\n",
    "            result['grade'] = 'B'\n",
    "        elif label_data[0][idx] == 'C':\n",
    "            result['grade'] = 'C'\n",
    "        elif label_data[0][idx] == 'F':\n",
    "            result['grade'] = 'F'\n",
    "        else:\n",
    "            continue\n",
    "        male_test.loc[f\"{idx:03d}\"] = result\n",
    "\n",
    "        out_info, df = cal_ratio(path)\n",
    "        ratio_df = pd.concat([ratio_df, df], axis = 0)\n",
    "    except:\n",
    "        pass\n",
    "male_test = pd.concat([male_test, ratio_df], axis = 1)\n",
    "grade = male_test['grade']\n",
    "male_test.drop(['grade'], axis = 1, inplace = True)\n",
    "male_test['grade'] = grade\n",
    "male_test = male_test.dropna()\n",
    "print(len(male_test))\n",
    "\n",
    "test_x = male_test.iloc[:, :-1]\n",
    "test_y = male_test.iloc[:, -1]\n",
    "\n",
    "rf_model = RandomForestClassifier(n_estimators=100)\n",
    "rf_model.fit(test_x, test_y)\n",
    "y_pred=rf_model.predict(test_x)\n",
    "y_pred"
   ]
  },
  {
   "cell_type": "code",
   "execution_count": 101,
   "metadata": {},
   "outputs": [
    {
     "name": "stdout",
     "output_type": "stream",
     "text": [
      "103\n",
      "[34, 35, 36, 37, 38, 39, 40, 41, 42, 43, 44, 45, 46, 47, 48, 49, 50, 51, 52, 53, 54, 55, 56, 57, 58, 59, 60, 61, 62, 63, 64, 65, 66, 67, 68, 69, 70, 71, 72, 73, 74, 75, 76, 77, 78, 79, 80, 81, 82, 83, 84, 85, 86, 87, 88, 89, 90, 91, 92, 93, 94, 95, 96, 97, 98, 99, 100, 101, 102, 103, 104, 105, 106, 107, 108, 109, 110, 111, 112, 113]\n",
      "104\n",
      "[36, 37, 38, 39, 40, 41, 42, 43, 44, 45, 46, 47, 48, 49, 50, 51, 52, 53, 54, 55, 56, 57, 58, 59, 60, 61, 62, 63, 64, 65, 66, 67, 68, 69, 70, 71, 72, 73, 74, 75, 76, 77, 78, 79, 80, 81, 82, 83, 84, 85, 86, 87, 88, 89, 90, 91, 92, 93, 94, 95, 96, 97, 98, 99, 100, 101, 102, 103, 104, 105, 106, 107, 108, 109, 110, 111, 112, 113, 114, 115, 116, 117, 118, 119, 120, 121, 122, 123]\n",
      "105\n",
      "[49, 50, 51, 52, 53, 54, 55, 56, 57, 58, 59, 60, 61, 62, 63, 64, 65]\n",
      "106\n",
      "[60, 61, 62, 63, 64, 65, 66, 67, 68, 69, 70, 71, 72, 73, 74, 75, 76, 77, 78, 79, 80, 81, 82, 83, 84, 85, 86, 87, 88, 89, 90, 91, 92, 93, 94, 95, 96, 97, 98, 99, 100, 101, 102, 103, 104, 105, 106, 107, 108, 109, 110, 111, 112, 113, 114, 115, 116]\n",
      "107\n",
      "fail\n",
      "108\n",
      "[36, 37, 38, 39, 40, 41, 42, 43, 44, 45, 46, 47, 48, 49, 50, 51, 52, 53, 54, 55, 56, 57, 58, 59, 60, 61, 62, 63, 64, 65, 66, 67, 68, 69, 70, 71, 72, 73, 74, 75, 76, 77, 78, 79, 80, 81, 82, 83, 84, 85, 86, 87, 88, 89, 90, 91, 92, 93, 94, 95, 96, 97, 98, 99, 100, 101, 102, 103, 104, 105, 106, 107]\n",
      "109\n",
      "[35, 36, 37, 38, 39, 40, 41, 42, 43, 44, 45, 46, 47, 48, 49, 50, 51, 52, 53, 54, 55, 56, 57, 58, 59, 60, 61, 62, 63, 64, 65, 66, 67, 68, 69, 70, 71, 72, 73, 74, 75, 76, 77, 78, 79, 80, 81, 82, 83, 84, 85, 86, 87, 88, 89, 90, 91, 92, 93, 94, 95, 96, 97, 98, 99, 100, 101]\n",
      "110\n",
      "[38, 39, 40, 41, 42, 43, 44, 45, 46, 47, 48, 49, 50, 51, 52, 53, 54, 55, 56, 57, 58, 59, 60, 61, 62, 63, 64, 65, 66, 67, 68, 69, 70, 71, 72, 73, 74, 75, 76, 77, 78, 79, 80, 81, 82, 83, 84, 85, 86, 87, 88, 89, 90, 91, 92, 93, 94, 95, 96, 97, 98, 99, 100, 101, 102, 103]\n",
      "111\n",
      "[38, 39, 40, 41, 42, 43, 44, 45, 46, 47, 48, 49, 50, 51, 52, 53, 54, 55, 56, 57, 58, 59, 60, 61, 62, 63, 64, 65, 66, 67, 68, 69, 70, 71, 72, 73, 74, 75, 76, 77, 78, 79, 80, 81, 82, 83, 84, 85, 86, 87, 88, 89, 90, 91, 92, 93, 94, 95, 96, 97, 98, 99, 100, 101, 102, 103, 104, 105]\n",
      "112\n",
      "[38, 39, 40, 41, 42, 43, 44, 45, 46, 47, 48, 49, 50, 51, 52, 53, 54, 55, 56, 57, 58, 59, 60, 61, 62, 63, 64, 65, 66, 67, 68, 69, 70, 71, 72, 73, 74, 75, 76, 77, 78, 79, 80, 81, 82, 83, 84, 85, 86, 87, 88, 89, 90, 91, 92, 93, 94, 95, 96, 97, 98, 99, 100, 101, 102, 103, 104]\n",
      "113\n",
      "[30, 31, 32, 33, 34, 35, 36, 37, 38, 39, 40, 41, 42, 43, 44, 45, 46, 47, 48, 49, 50, 51, 52, 53, 54, 55, 56, 57, 58, 59, 60, 61, 62, 63, 64, 65, 66, 67, 68, 69, 70, 71, 72, 73, 74, 75, 76, 77, 78, 79, 80, 81, 82, 83, 84, 85, 86, 87, 88, 89, 90, 91, 92, 93, 94, 95, 96, 97, 98, 99]\n",
      "114\n",
      "[37, 38, 39, 40, 41, 42, 43, 44, 45, 46, 47, 48, 49, 50, 51, 52, 53, 54, 55, 56, 57, 58, 59, 60, 61, 62, 63, 64, 65, 66, 67, 68, 69, 70, 71, 72, 73, 74, 75, 76, 77, 78, 79, 80, 81, 82, 83, 84, 85, 86, 87, 88, 89, 90, 91, 92, 93, 94, 95, 96, 97, 98, 99]\n",
      "115\n",
      "[29, 30, 31, 32, 33, 34, 35, 36, 37, 38, 39, 40, 41, 42, 43, 44, 45, 46, 47, 48, 49, 50, 51, 52, 53, 54, 55, 56, 57, 58, 59, 60, 61, 62, 63, 64, 65, 66, 67, 68, 69, 70, 71, 72, 73, 74, 75, 76, 77, 78, 79, 80, 81, 82, 83, 84, 85, 86, 87, 88, 89, 90, 91, 92, 93, 94, 95]\n",
      "116\n",
      "[44, 45, 46, 47, 48, 49, 50, 51, 52, 53, 54, 55, 56, 57, 58, 59, 60, 61, 62, 63, 64, 65, 66, 67, 68, 69, 70, 71, 72, 73, 74, 75, 76, 77, 78, 79, 80, 81, 82, 83, 84, 85, 86, 87, 88, 89, 90, 91, 92, 93, 94, 95, 96, 97, 98, 99, 100, 101, 102, 103, 104, 105, 106, 107, 108, 109, 110, 111, 112, 113, 114, 115, 116]\n",
      "117\n",
      "[39, 40, 41, 42, 43, 44, 45, 46, 47, 48, 49, 50, 51, 52, 53, 54, 55, 56, 57, 58, 59, 60, 61, 62, 63, 64, 65, 66, 67, 68, 69, 70, 71, 72, 73, 74, 75, 76, 77, 78, 79, 80, 81, 82, 83, 84, 85, 86, 87, 88, 89, 90, 91, 92, 93, 94, 95, 96, 97, 98, 99, 100, 101, 102, 103, 104, 105, 106, 107, 108, 109, 110, 111]\n",
      "118\n",
      "[39, 40, 41, 42, 43, 44, 45, 46, 47, 48, 49, 50, 51, 52, 53, 54, 55, 56, 57, 58, 59, 60, 61, 62, 63, 64, 65, 66, 67, 68, 69, 70, 71, 72, 73, 74, 75, 76, 77, 78, 79, 80, 81, 82, 83, 84, 85, 86, 87, 88, 89, 90, 91, 92, 93, 94, 95, 96, 97, 98, 99, 100, 101, 102, 103, 104, 105, 106, 107, 108, 109, 110, 111, 112]\n",
      "119\n",
      "[37, 38, 39, 40, 41, 42, 43, 44, 45, 46, 47, 48, 49, 50, 51, 52, 53, 54, 55, 56, 57, 58, 59, 60, 61, 62, 63, 64, 65, 66, 67, 68, 69, 70, 71, 72, 73, 74, 75, 76, 77, 78, 79, 80, 81, 82, 83, 84, 85, 86, 87, 88, 89, 90, 91, 92, 93, 94, 95, 96, 97, 98, 99, 100, 101, 102, 103, 104, 105, 106]\n",
      "120\n",
      "[46, 47, 48, 49, 50, 51, 52, 53, 54, 55, 56, 57, 58, 59, 60, 61, 62, 63, 64, 65, 66, 67, 68, 69, 70, 71, 72, 73, 74, 75, 76, 77, 78, 79, 80, 81, 82, 83, 84, 85, 86, 87, 88, 89, 90, 91, 92, 93, 94, 95, 96, 97, 98, 99, 100, 101, 102, 103, 104, 105, 106, 107, 108, 109, 110, 111, 112, 113, 114, 115, 116, 117, 118, 119, 120, 121]\n",
      "121\n",
      "[37, 38, 39, 40, 41, 42, 43, 44, 45, 46, 47, 48, 49, 50, 51, 52, 53, 54, 55, 56, 57, 58, 59, 60, 61, 62, 63, 64, 65, 66, 67, 68, 69, 70, 71, 72, 73, 74, 75, 76, 77, 78, 79, 80, 81, 82, 83, 84, 85, 86, 87, 88, 89, 90, 91, 92, 93, 94, 95, 96, 97, 98, 99, 100, 101, 102, 103, 104, 105, 106, 107]\n",
      "122\n",
      "[50, 51, 52, 53, 54, 55, 56, 57, 58, 59, 60, 61, 62, 63, 64, 65, 66, 67, 68, 69, 70, 71, 72, 73, 74, 75, 76, 77, 78, 79, 80, 81, 82, 83, 84, 85, 86, 87, 88, 89, 90, 91, 92, 93, 94, 95, 96, 97, 98, 99, 100, 101, 102, 103, 104, 105, 106, 107, 108, 109, 110, 111, 112, 113, 114, 115, 116, 117, 118, 119, 120, 121, 122, 123]\n",
      "123\n",
      "[38, 39, 40, 41, 42, 43, 44, 45, 46, 47, 48, 49, 50, 51, 52, 53, 54, 55, 56, 57, 58, 59, 60, 61, 62, 63, 64, 65, 66, 67, 68, 69, 70, 71, 72, 73, 74, 75, 76, 77, 78, 79, 80, 81, 82, 83, 84, 85, 86, 87, 88, 89, 90, 91, 92, 93, 94, 95, 96, 97, 98, 99, 100, 101, 102, 103, 104, 105, 106, 107]\n",
      "124\n",
      "[45, 46, 47, 48, 49, 50, 51, 52, 53, 54, 55, 56, 57, 58, 59, 60, 61, 62, 63, 64, 65, 66, 67, 68, 69, 70, 71, 72, 73, 74, 75, 76, 77, 78, 79, 80, 81, 82, 83, 84, 85, 86, 87, 88, 89, 90, 91, 92, 93, 94, 95, 96, 97, 98, 99, 100, 101, 102, 103, 104, 105, 106, 107, 108, 109, 110, 111]\n",
      "125\n",
      "[43, 44, 45, 46, 47, 48, 49, 50, 51, 52, 53, 54, 55, 56, 57, 58, 59, 60, 61, 62, 63, 64, 65, 66, 67, 68, 69, 70, 71, 72, 73, 74, 75, 76, 77, 78, 79, 80, 81, 82, 83, 84, 85, 86, 87, 88, 89, 90, 91, 92, 93, 94, 95, 96, 97, 98, 99, 100, 101, 102, 103, 104, 105, 106, 107, 108, 109]\n",
      "126\n",
      "[35, 36, 37, 38, 39, 40, 41, 42, 43, 44, 45, 46, 47, 48, 49, 50, 51, 52, 53, 54, 55, 56, 57, 58, 59, 60, 61, 62, 63, 64, 65, 66, 67, 68, 69, 70, 71, 72, 73, 74, 75, 76, 77, 78, 79, 80, 81, 82, 83, 84, 85, 86, 87, 88, 89, 90, 91, 92, 93, 94, 95, 96, 97, 98, 99, 100, 101, 102, 103]\n",
      "127\n",
      "[45, 46, 47, 48, 49, 50, 51, 52, 53, 54, 55, 56, 57, 58, 59, 60, 61, 62, 63, 64, 65, 66, 67, 68, 69, 70, 71, 72, 73, 74, 75, 76, 77, 78, 79, 80, 81, 82, 83, 84, 85, 86, 87, 88, 89, 90, 91, 92, 93, 94, 95, 96, 97, 98, 99, 100, 101, 102, 103, 104, 105, 106, 107, 108, 109, 110, 111, 112, 113]\n",
      "128\n",
      "[39, 40, 41, 42, 43, 44, 45, 46, 47, 48, 49, 50, 51, 52, 53, 54, 55, 56, 57, 58, 59, 60, 61, 62, 63, 64, 65, 66, 67, 68, 69, 70, 71, 72, 73, 74, 75, 76, 77, 78, 79, 80, 81, 82, 83, 84, 85, 86, 87, 88, 89, 90, 91, 92, 93, 94, 95, 96, 97, 98, 99, 100, 101, 102, 103, 104, 105, 106, 107, 108]\n",
      "129\n",
      "[37, 38, 39, 40, 41, 42, 43, 44, 45, 46, 47, 48, 49, 50, 51, 52, 53, 54, 55, 56, 57, 58, 59, 60, 61, 62, 63, 64, 65, 66, 67, 68, 69, 70, 71, 72, 73, 74, 75, 76, 77, 78, 79, 80, 81, 82, 83, 84, 85, 86, 87, 88, 89, 90, 91, 92, 93, 94, 95, 96, 97, 98, 99, 100, 101, 102, 103, 104, 105]\n",
      "130\n",
      "[38, 39, 40, 41, 42, 43, 44, 45, 46, 47, 48, 49, 50, 51, 52, 53, 54, 55, 56, 57, 58, 59, 60, 61, 62, 63, 64, 65, 66, 67, 68, 69, 70, 71, 72, 73, 74, 75, 76, 77, 78, 79, 80, 81, 82, 83, 84, 85, 86, 87, 88, 89, 90, 91, 92, 93, 94, 95, 96, 97, 98, 99, 100, 101, 102, 103, 104, 105, 106]\n",
      "131\n",
      "[36, 37, 38, 39, 40, 41, 42, 43, 44, 45, 46, 47, 48, 49, 50, 51, 52, 53, 54, 55, 56, 57, 58, 59, 60, 61, 62, 63, 64, 65, 66, 67, 68, 69, 70, 71, 72, 73, 74, 75, 76, 77, 78, 79, 80, 81, 82, 83, 84, 85, 86, 87, 88, 89, 90, 91, 92, 93, 94, 95, 96, 97, 98, 99, 100, 101, 102, 103, 104, 105, 106]\n",
      "132\n",
      "[38, 39, 40, 41, 42, 43, 44, 45, 46, 47, 48, 49, 50, 51, 52, 53, 54, 55, 56, 57, 58, 59, 60, 61, 62, 63, 64, 65, 66, 67, 68, 69, 70, 71, 72, 73, 74, 75, 76, 77, 78, 79, 80, 81, 82, 83, 84, 85, 86, 87, 88, 89, 90, 91, 92, 93, 94, 95, 96, 97, 98, 99, 100, 101, 102, 103, 104, 105, 106]\n",
      "133\n"
     ]
    },
    {
     "name": "stdout",
     "output_type": "stream",
     "text": [
      "[35, 36, 37, 38, 39, 40, 41, 42, 43, 44, 45, 46, 47, 48, 49, 50, 51, 52, 53, 54, 55, 56, 57, 58, 59, 60, 61, 62, 63, 64, 65, 66, 67, 68, 69, 70, 71, 72, 73, 74, 75, 76, 77, 78, 79, 80, 81, 82, 83, 84, 85, 86, 87, 88, 89, 90, 91, 92, 93, 94, 95, 96, 97, 98, 99, 100, 101, 102, 103, 104, 105, 106, 107]\n",
      "134\n",
      "[37, 38, 39, 40, 41, 42, 43, 44, 45, 46, 47, 48, 49, 50, 51, 52, 53, 54, 55, 56, 57, 58, 59, 60, 61, 62, 63, 64, 65, 66, 67, 68, 69, 70, 71, 72, 73, 74, 75, 76, 77, 78, 79, 80, 81, 82, 83, 84, 85, 86, 87, 88, 89, 90, 91, 92, 93, 94, 95, 96, 97, 98, 99, 100, 101, 102, 103, 104, 105, 106, 107, 108]\n",
      "135\n",
      "[43, 44, 45, 46, 47, 48, 49, 50, 51, 52, 53, 54, 55, 56, 57, 58, 59, 60, 61, 62, 63, 64, 65, 66, 67, 68, 69, 70, 71, 72, 73, 74, 75, 76, 77, 78, 79, 80, 81, 82, 83, 84, 85, 86, 87, 88, 89, 90, 91, 92, 93, 94, 95, 96, 97, 98, 99, 100, 101, 102, 103, 104, 105, 106, 107, 108, 109, 110, 111, 112, 113, 114, 115]\n",
      "136\n",
      "[33, 34, 35, 36, 37, 38, 39, 40, 41, 42, 43, 44, 45, 46, 47, 48, 49, 50, 51, 52, 53, 54, 55, 56, 57, 58, 59, 60, 61, 62, 63, 64, 65, 66, 67, 68, 69, 70, 71, 72, 73, 74, 75, 76, 77, 78, 79, 80, 81, 82, 83, 84, 85, 86, 87, 88, 89, 90, 91, 92, 93, 94, 95, 96, 97, 98, 99, 100, 101, 102, 103]\n",
      "137\n",
      "[39, 40, 41, 42, 43, 44, 45, 46, 47, 48, 49, 50, 51, 52, 53, 54, 55, 56, 57, 58, 59, 60, 61, 62, 63, 64, 65, 66, 67, 68, 69, 70, 71, 72, 73, 74, 75, 76, 77, 78, 79, 80, 81, 82, 83, 84, 85, 86, 87, 88, 89, 90, 91, 92, 93, 94, 95, 96, 97, 98, 99, 100, 101, 102, 103, 104, 105, 106, 107, 108]\n",
      "138\n",
      "[43, 44, 45, 46, 47, 48, 49, 50, 51, 52, 53, 54, 55, 56, 57, 58, 59, 60, 61, 62, 63, 64, 65, 66, 67, 68, 69, 70, 71, 72, 73, 74, 75, 76, 77, 78, 79, 80, 81, 82, 83, 84, 85, 86, 87, 88, 89, 90, 91, 92, 93, 94, 95, 96, 97, 98, 99, 100, 101, 102, 103, 104, 105, 106, 107]\n",
      "139\n",
      "[38, 39, 40, 41, 42, 43, 44, 45, 46, 47, 48, 49, 50, 51, 52, 53, 54, 55, 56, 57, 58, 59, 60, 61, 62, 63, 64, 65, 66, 67, 68, 69, 70, 71, 72, 73, 74, 75, 76, 77, 78, 79, 80, 81, 82, 83, 84, 85, 86, 87, 88, 89, 90, 91, 92, 93, 94, 95, 96, 97, 98, 99, 100, 101, 102, 103, 104, 105, 106, 107, 108, 109]\n",
      "140\n",
      "[42, 43, 44, 45, 46, 47, 48, 49, 50, 51, 52, 53, 54, 55, 56, 57, 58, 59, 60, 61, 62, 63, 64, 65, 66, 67, 68, 69, 70, 71, 72, 73, 74, 75, 76, 77, 78, 79, 80, 81, 82, 83, 84, 85, 86, 87, 88, 89, 90, 91, 92, 93, 94, 95, 96, 97, 98, 99, 100, 101, 102, 103, 104, 105, 106, 107, 108, 109, 110, 111, 112, 113]\n"
     ]
    }
   ],
   "source": [
    "for idx in male_test_idx:\n",
    "    print(idx)\n",
    "    try:\n",
    "        mid, cycle, cycle_y = get_cycle(f\"train_data_240_json/{idx+1:03d}/\")\n",
    "        print(cycle)\n",
    "    except:\n",
    "        print('fail')"
   ]
  },
  {
   "cell_type": "code",
   "execution_count": 74,
   "metadata": {},
   "outputs": [
    {
     "data": {
      "text/plain": [
       "pandas.core.frame.DataFrame"
      ]
     },
     "execution_count": 74,
     "metadata": {},
     "output_type": "execute_result"
    }
   ],
   "source": [
    "test_x = male_test.iloc[:, :-1]\n",
    "type(test_x)"
   ]
  },
  {
   "cell_type": "code",
   "execution_count": 54,
   "metadata": {
    "ExecuteTime": {
     "end_time": "2020-08-20T07:38:17.680757Z",
     "start_time": "2020-08-20T07:38:17.662756Z"
    }
   },
   "outputs": [
    {
     "data": {
      "text/html": [
       "<div>\n",
       "<style scoped>\n",
       "    .dataframe tbody tr th:only-of-type {\n",
       "        vertical-align: middle;\n",
       "    }\n",
       "\n",
       "    .dataframe tbody tr th {\n",
       "        vertical-align: top;\n",
       "    }\n",
       "\n",
       "    .dataframe thead th {\n",
       "        text-align: right;\n",
       "    }\n",
       "</style>\n",
       "<table border=\"1\" class=\"dataframe\">\n",
       "  <thead>\n",
       "    <tr style=\"text-align: right;\">\n",
       "      <th>col_0</th>\n",
       "      <th>B</th>\n",
       "      <th>C</th>\n",
       "      <th>F</th>\n",
       "    </tr>\n",
       "    <tr>\n",
       "      <th>grade</th>\n",
       "      <th></th>\n",
       "      <th></th>\n",
       "      <th></th>\n",
       "    </tr>\n",
       "  </thead>\n",
       "  <tbody>\n",
       "    <tr>\n",
       "      <th>B</th>\n",
       "      <td>32</td>\n",
       "      <td>0</td>\n",
       "      <td>0</td>\n",
       "    </tr>\n",
       "    <tr>\n",
       "      <th>C</th>\n",
       "      <td>0</td>\n",
       "      <td>1</td>\n",
       "      <td>0</td>\n",
       "    </tr>\n",
       "    <tr>\n",
       "      <th>F</th>\n",
       "      <td>0</td>\n",
       "      <td>0</td>\n",
       "      <td>1</td>\n",
       "    </tr>\n",
       "  </tbody>\n",
       "</table>\n",
       "</div>"
      ],
      "text/plain": [
       "col_0   B  C  F\n",
       "grade          \n",
       "B      32  0  0\n",
       "C       0  1  0\n",
       "F       0  0  1"
      ]
     },
     "execution_count": 54,
     "metadata": {},
     "output_type": "execute_result"
    }
   ],
   "source": [
    "pd.crosstab(test_y, y_pred)"
   ]
  },
  {
   "cell_type": "markdown",
   "metadata": {},
   "source": [
    "## XGBOOST"
   ]
  },
  {
   "cell_type": "code",
   "execution_count": 58,
   "metadata": {
    "collapsed": true
   },
   "outputs": [
    {
     "name": "stdout",
     "output_type": "stream",
     "text": [
      "Looking in indexes: http://ftp.daumkakao.com/pypi/simple\n",
      "Collecting xgboost\n",
      "  Downloading http://mirror.kakao.com/pypi/packages/7c/32/a11befbb003e0e6b7e062a77f010dfcec0ec3589be537b02d2eb2ff93b9a/xgboost-1.1.1-py3-none-manylinux2010_x86_64.whl (127.6 MB)\n",
      "\u001b[K     |████████████████████████████████| 127.6 MB 143.6 MB/s eta 0:00:01|▋                               | 2.4 MB 19.0 MB/s eta 0:00:070 MB/s eta 0:00:07.0 MB/s eta 0:00:06███                           | 19.9 MB 19.0 MB/s eta 0:00:0606�██▏                     | 40.4 MB 19.0 MB/s eta 0:00:05                    | 45.2 MB 19.0 MB/s eta 0:00:05��████████▊                   | 50.8 MB 19.0 MB/s eta 0:00:053 MB 19.0 MB/s eta 0:00:04 MB 19.0 MB/s eta 0:00:040:00:03   | 77.1 MB 19.0 MB/s eta 0:00:03�████████▉           | 83.0 MB 19.0 MB/s eta 0:00:03B 19.0 MB/s eta 0:00:03█████▌        | 93.5 MB 19.0 MB/s eta 0:00:02██████████████████████▉       | 98.9 MB 143.6 MB/s eta 0:00:01�██████▏     | 104.2 MB 143.6 MB/s eta 0:00:01 MB 143.6 MB/s eta 0:00:01�██████████████████████████▊   | 114.7 MB 143.6 MB/s eta 0:00:01�███▏ | 120.1 MB 143.6 MB/s eta 0:00:01�████████████████▍| 125.1 MB 143.6 MB/s eta 0:00:01\n",
      "\u001b[?25hRequirement already satisfied: scipy in /home/centos/anaconda3/lib/python3.6/site-packages (from xgboost) (1.4.1)\n",
      "Requirement already satisfied: numpy in /home/centos/anaconda3/lib/python3.6/site-packages (from xgboost) (1.19.0)\n",
      "Installing collected packages: xgboost\n",
      "Successfully installed xgboost-1.1.1\n"
     ]
    }
   ],
   "source": [
    "! pip install xgboost"
   ]
  },
  {
   "cell_type": "code",
   "execution_count": 66,
   "metadata": {
    "ExecuteTime": {
     "end_time": "2020-08-20T07:38:20.690929Z",
     "start_time": "2020-08-20T07:38:20.263905Z"
    }
   },
   "outputs": [
    {
     "data": {
      "text/plain": [
       "XGBClassifier(base_score=0.5, booster='gbtree', colsample_bylevel=1,\n",
       "       colsample_bynode=1, colsample_bytree=1, gamma=0, gpu_id=-1,\n",
       "       importance_type='gain', interaction_constraints='',\n",
       "       learning_rate=0.01, max_delta_step=0, max_depth=10,\n",
       "       min_child_weight=1, missing=nan, monotone_constraints='()',\n",
       "       n_estimators=100, n_jobs=0, num_parallel_tree=1,\n",
       "       objective='multi:softprob', random_state=0, reg_alpha=0,\n",
       "       reg_lambda=1, scale_pos_weight=None, subsample=1,\n",
       "       tree_method='exact', validate_parameters=1, verbosity=None)"
      ]
     },
     "execution_count": 66,
     "metadata": {},
     "output_type": "execute_result"
    }
   ],
   "source": [
    "from xgboost import XGBClassifier\n",
    "xgb_model=XGBClassifier(max_depth=10, learning_rate=0.01, n_estimators=100)\n",
    "xgb_model.fit(train_x.to_numpy(), train_y)"
   ]
  },
  {
   "cell_type": "code",
   "execution_count": 76,
   "metadata": {},
   "outputs": [],
   "source": [
    "test_x = male_test.iloc[:, :-1]"
   ]
  },
  {
   "cell_type": "code",
   "execution_count": 80,
   "metadata": {},
   "outputs": [],
   "source": [
    "test_x = test_x.to_numpy()"
   ]
  },
  {
   "cell_type": "code",
   "execution_count": 81,
   "metadata": {},
   "outputs": [
    {
     "data": {
      "text/plain": [
       "array([[14.571745480047884, 33.70192069127829, 74.6248179324963, 32, 42,\n",
       "        80.20429269498196, 0.5733333333333333, 0.6266666666666667, 0.28,\n",
       "        0.07999999999999996, 0.56, 0.053333333333333344,\n",
       "        0.026666666666666616, 0.72, 0.6533333333333333,\n",
       "        0.8266666666666667, 1.0, 0.6266666666666667, 0.30666666666666664,\n",
       "        1.0],\n",
       "       [85.54829180918041, 68.10852492926442, 69.90405216008706, 43, 36,\n",
       "        65.63184473010058, 0.42500000000000004, 0.55, 0.5375, 0.125,\n",
       "        0.35, 0.32499999999999996, 0.15000000000000002,\n",
       "        0.42500000000000004, 0.4, 0.5, 1.0, 0.4, 0.5125, 1.0],\n",
       "       [140.33694070575257, 75.01105902540806, 73.55959723632137, 38, 33,\n",
       "        49.72844323214213, 0.36111111111111116, 0.36111111111111116,\n",
       "        0.23611111111111116, 0.1527777777777778, 0.36111111111111116,\n",
       "        0.2777777777777778, 0.23611111111111116, 0.4027777777777778,\n",
       "        0.38888888888888884, 0.625, 1.0, 0.375, 0.5972222222222222, 1.0],\n",
       "       [129.54469861834647, 76.04224716820096, 76.63207974884004, 33, 33,\n",
       "        51.73522262730434, 0.35820895522388063, 0.4029850746268657,\n",
       "        0.6716417910447761, 0.6567164179104478, 0.35820895522388063,\n",
       "        0.5373134328358209, 0.5373134328358209, 0.417910447761194,\n",
       "        0.4029850746268657, 0.4477611940298507, 1.0, 0.417910447761194,\n",
       "        0.4925373134328358, 1.0],\n",
       "       [126.57703620976837, 77.0456957297992, 76.86509499415865, 33, 32,\n",
       "        55.02485971472537, 0.33333333333333337, 0.33333333333333337,\n",
       "        0.4696969696969697, 0.3939393939393939, 0.3484848484848485,\n",
       "        0.28787878787878785, 0.31818181818181823, 0.43939393939393945,\n",
       "        0.43939393939393945, 0.5151515151515151, 1.0,\n",
       "        0.43939393939393945, 0.5303030303030303, 1.0],\n",
       "       [120.30117299048067, 75.61212302835149, 75.90777750836436, 34, 33,\n",
       "        55.49727062177031, 0.38235294117647056, 0.42647058823529416,\n",
       "        0.4852941176470589, 0.3970588235294118, 0.4117647058823529,\n",
       "        0.20588235294117652, 0.1029411764705882, 0.5, 0.4558823529411765,\n",
       "        0.5, 1.0, 0.47058823529411764, 0.6176470588235294, 1.0],\n",
       "       [125.7591460316177, 76.51662213925772, 75.89376068038136, 34, 32,\n",
       "        56.24242331509504, 0.3731343283582089, 0.3731343283582089,\n",
       "        0.20895522388059706, 0.17910447761194026, 0.3731343283582089,\n",
       "        0.14925373134328357, 0.14925373134328357, 0.5373134328358209,\n",
       "        0.5373134328358209, 0.791044776119403, 1.0, 0.5074626865671642,\n",
       "        0.6268656716417911, 1.0],\n",
       "       [133.2022209381719, 82.39455290315648, 75.2620996693533, 37, 32,\n",
       "        52.46777279440309, 0.4, 0.4285714285714286, 0.7571428571428571,\n",
       "        0.8142857142857143, 0.4, 0.6428571428571428, 0.4571428571428572,\n",
       "        0.5, 0.4714285714285714, 0.48571428571428577, 1.0,\n",
       "        0.4571428571428572, 0.5, 1.0],\n",
       "       [156.45972970464067, 97.5667180593923, 79.76436875818612, 33, 29,\n",
       "        41.225784722218975, 0.3650793650793651, 0.38095238095238093,\n",
       "        0.38095238095238093, 0.2222222222222222, 0.38095238095238093,\n",
       "        0.2857142857142857, 0.11111111111111116, 0.4126984126984127,\n",
       "        0.4126984126984127, 0.46031746031746035, 1.0, 0.4126984126984127,\n",
       "        0.46031746031746035, 1.0],\n",
       "       [123.30944975962915, 72.74341820146556, 74.045437333096, 34, 32,\n",
       "        54.322621035656056, 0.31343283582089554, 0.31343283582089554,\n",
       "        0.20895522388059706, 0.10447761194029848, 0.32835820895522383,\n",
       "        0.14925373134328357, 0.08955223880597019, 0.4328358208955224,\n",
       "        0.417910447761194, 0.6865671641791045, 1.0, 0.4328358208955224,\n",
       "        0.582089552238806, 1.0],\n",
       "       [125.666225498048, 74.84404060213271, 75.84277354264509, 39, 33,\n",
       "        56.45395225789609, 0.3972602739726028, 0.3972602739726028,\n",
       "        0.273972602739726, 0.2191780821917808, 0.4246575342465754,\n",
       "        0.2191780821917808, 0.15068493150684936, 0.5068493150684932,\n",
       "        0.4931506849315068, 0.9589041095890412, 1.0, 0.4931506849315068,\n",
       "        0.6712328767123288, 1.0],\n",
       "       [104.66117131831756, 69.69498463857178, 76.66199481048223, 38, 34,\n",
       "        62.0526430405274, 0.4246575342465754, 0.4383561643835616,\n",
       "        0.6986301369863014, 0.2191780821917808, 0.4657534246575342,\n",
       "        0.273972602739726, 0.23287671232876717, 0.547945205479452,\n",
       "        0.547945205479452, 0.5753424657534247, 1.0, 0.547945205479452,\n",
       "        0.6164383561643836, 1.0],\n",
       "       [93.75134690267897, 67.10166633490664, 73.84226038410536, 39, 34,\n",
       "        63.71374871900686, 0.3918918918918919, 0.43243243243243246,\n",
       "        0.7162162162162162, 0.18918918918918914, 0.4054054054054054,\n",
       "        0.31081081081081086, 0.29729729729729726, 0.5540540540540541,\n",
       "        0.5540540540540541, 0.527027027027027, 1.0, 0.5135135135135135,\n",
       "        0.527027027027027, 1.0],\n",
       "       [114.71337147023496, 71.67399800494594, 75.27717364953631, 36, 33,\n",
       "        59.560301801765775, 0.44285714285714284, 0.44285714285714284,\n",
       "        0.44285714285714284, 0.12857142857142856, 0.44285714285714284,\n",
       "        0.27142857142857146, 0.09999999999999998, 0.5428571428571429,\n",
       "        0.48571428571428577, 0.8142857142857143, 1.0, 0.4714285714285714,\n",
       "        0.6428571428571428, 1.0],\n",
       "       [110.72025298470435, 71.16111687170542, 76.06393305138889, 40, 35,\n",
       "        59.46470760189374, 0.381578947368421, 0.381578947368421,\n",
       "        0.1842105263157895, 0.14473684210526316, 0.42105263157894735,\n",
       "        0.1578947368421053, 0.14473684210526316, 0.48684210526315785,\n",
       "        0.4473684210526315, 0.7105263157894737, 1.0, 0.4605263157894737,\n",
       "        0.6842105263157895, 1.0],\n",
       "       [102.49704299373475, 70.6771853854366, 75.2951671910736, 37, 33,\n",
       "        62.87330746138325, 0.47887323943661975, 0.47887323943661975,\n",
       "        0.9295774647887324, 0.704225352112676, 0.47887323943661975,\n",
       "        0.6901408450704225, 0.3661971830985915, 0.5915492957746479,\n",
       "        0.5774647887323944, 0.647887323943662, 1.0, 0.5633802816901409,\n",
       "        0.6056338028169015, 1.0],\n",
       "       [92.67779201477137, 70.62247021196839, 76.67087256174638, 39, 34,\n",
       "        64.32312159920343, 0.44594594594594594, 0.44594594594594594,\n",
       "        0.6351351351351351, 0.44594594594594594, 0.45945945945945943,\n",
       "        0.33783783783783783, 0.21621621621621623, 0.5405405405405406,\n",
       "        0.527027027027027, 0.5405405405405406, 1.0, 0.5135135135135135,\n",
       "        0.527027027027027, 1.0],\n",
       "       [89.39420303632976, 64.90416160995294, 74.45370852834517, 37, 32,\n",
       "        65.51154416451925, 0.3571428571428571, 0.4, 0.5,\n",
       "        0.15714285714285714, 0.37142857142857144, 0.41428571428571426,\n",
       "        0.15714285714285714, 0.5142857142857142, 0.4714285714285714, 0.9,\n",
       "        1.0, 0.5, 0.5571428571428572, 1.0],\n",
       "       [96.08893201716288, 69.0182930376592, 74.03473896421777, 35, 31,\n",
       "        62.87644467773774, 0.417910447761194, 0.417910447761194,\n",
       "        0.6865671641791045, 0.5373134328358209, 0.417910447761194,\n",
       "        0.582089552238806, 0.13432835820895528, 0.5223880597014925,\n",
       "        0.5223880597014925, 0.6119402985074627, 1.0, 0.4925373134328358,\n",
       "        0.582089552238806, 1.0],\n",
       "       [106.66155310839189, 71.25382629570676, 75.2454378786556, 35, 31,\n",
       "        59.93473689776468, 0.3731343283582089, 0.3880597014925373,\n",
       "        0.6567164179104478, 0.5970149253731343, 0.3731343283582089,\n",
       "        0.5970149253731343, 0.32835820895522383, 0.4925373134328358,\n",
       "        0.4477611940298507, 0.7761194029850746, 1.0, 0.4925373134328358,\n",
       "        0.7014925373134329, 1.0],\n",
       "       [89.11837393639193, 64.79971084648821, 73.77497457771274, 36, 32,\n",
       "        65.17684441363204, 0.3913043478260869, 0.37681159420289856,\n",
       "        0.8115942028985508, 0.30434782608695654, 0.4057971014492754,\n",
       "        0.8405797101449275, 0.10144927536231885, 0.536231884057971,\n",
       "        0.5217391304347826, 0.6811594202898551, 1.0, 0.5217391304347826,\n",
       "        0.6086956521739131, 1.0],\n",
       "       [103.58874948889473, 67.55664961297774, 75.18586837643954, 35, 33,\n",
       "        61.146742751221566, 0.42028985507246375, 0.49275362318840576,\n",
       "        0.7681159420289855, 0.5942028985507246, 0.4347826086956522,\n",
       "        0.6231884057971014, 0.10144927536231885, 0.5217391304347826,\n",
       "        0.49275362318840576, 0.7971014492753623, 1.0,\n",
       "        0.49275362318840576, 0.536231884057971, 1.0],\n",
       "       [63.52649650702865, 61.19181711433518, 77.36955929460372, 35, 34,\n",
       "        71.9169078212125, 0.3571428571428571, 0.48571428571428577,\n",
       "        0.7285714285714286, 0.7, 0.3571428571428571, 0.6857142857142857,\n",
       "        0.27142857142857146, 0.5428571428571429, 0.5, 0.5, 1.0, 0.5,\n",
       "        0.5714285714285714, 1.0],\n",
       "       [47.58768114828327, 58.786879760668796, 76.45138827029682, 35, 33,\n",
       "        75.29908984058883, 0.536231884057971, 0.7681159420289855,\n",
       "        0.8405797101449275, 0.536231884057971, 0.42028985507246375,\n",
       "        0.6521739130434783, 0.37681159420289856, 0.6231884057971014,\n",
       "        0.6231884057971014, 0.5217391304347826, 1.0, 0.5797101449275363,\n",
       "        0.5217391304347826, 1.0],\n",
       "       [104.3839486206011, 67.0591976366409, 74.26776204788827, 36, 32,\n",
       "        59.75937331324454, 0.34782608695652173, 0.4492753623188406,\n",
       "        0.7246376811594203, 0.4347826086956522, 0.3623188405797102,\n",
       "        0.6811594202898551, 0.1159420289855072, 0.5072463768115942,\n",
       "        0.4347826086956522, 0.6956521739130435, 1.0, 0.42028985507246375,\n",
       "        0.49275362318840576, 1.0],\n",
       "       [94.55687315237954, 64.36355538087369, 74.22795273881187, 36, 34,\n",
       "        63.83055105536387, 0.45070422535211263, 0.45070422535211263,\n",
       "        0.676056338028169, 0.5633802816901409, 0.45070422535211263,\n",
       "        0.4225352112676056, 0.12676056338028174, 0.5633802816901409,\n",
       "        0.5070422535211268, 0.9577464788732395, 1.0, 0.46478873239436624,\n",
       "        0.6338028169014085, 1.0],\n",
       "       [118.47386748143252, 72.66621997450588, 75.77845302150344, 36, 32,\n",
       "        55.662449443849155, 0.33333333333333337, 0.34782608695652173,\n",
       "        0.34782608695652173, 0.4347826086956522, 0.34782608695652173,\n",
       "        0.3188405797101449, 0.10144927536231885, 0.4347826086956522,\n",
       "        0.4347826086956522, 0.7101449275362319, 1.0, 0.42028985507246375,\n",
       "        0.5797101449275363, 1.0],\n",
       "       [105.86309605226408, 68.26269567739617, 74.0573556413609, 38, 34,\n",
       "        58.985863542148124, 0.36986301369863017, 0.3835616438356164,\n",
       "        0.726027397260274, 0.5616438356164384, 0.3561643835616438,\n",
       "        0.6712328767123288, 0.0821917808219178, 0.4931506849315068,\n",
       "        0.4383561643835616, 0.6849315068493151, 1.0, 0.4931506849315068,\n",
       "        0.5753424657534247, 1.0],\n",
       "       [64.71147079566087, 60.39429615304466, 75.85016484274938, 37, 34,\n",
       "        70.31205990913156, 0.38888888888888884, 0.4722222222222222,\n",
       "        0.625, 0.375, 0.36111111111111116, 0.38888888888888884, 0.25,\n",
       "        0.5833333333333333, 0.5833333333333333, 0.6527777777777778, 1.0,\n",
       "        0.5833333333333333, 0.6111111111111112, 1.0],\n",
       "       [90.14016994100277, 65.08907313821771, 75.27797720304793, 39, 33,\n",
       "        65.12197587482156, 0.3835616438356164, 0.3972602739726028,\n",
       "        0.589041095890411, 0.09589041095890416, 0.3835616438356164,\n",
       "        0.6027397260273972, 0.09589041095890416, 0.547945205479452,\n",
       "        0.547945205479452, 0.7123287671232876, 1.0, 0.5342465753424658,\n",
       "        0.6849315068493151, 1.0],\n",
       "       [81.8312287013006, 66.02606605196243, 75.33143056108173, 37, 33,\n",
       "        65.50892882619203, 0.43661971830985913, 0.5915492957746479,\n",
       "        0.9014084507042254, 0.2816901408450704, 0.43661971830985913,\n",
       "        0.8732394366197183, 0.09859154929577463, 0.5915492957746479,\n",
       "        0.5915492957746479, 0.46478873239436624, 1.0, 0.5211267605633803,\n",
       "        0.46478873239436624, 1.0],\n",
       "       [100.32610566719278, 68.58424556467784, 73.96938181628629, 36, 33,\n",
       "        60.61913447376793, 0.4, 0.41428571428571426, 0.7571428571428571,\n",
       "        0.3571428571428571, 0.41428571428571426, 0.6,\n",
       "        0.09999999999999998, 0.5, 0.4714285714285714,\n",
       "        0.44285714285714284, 1.0, 0.44285714285714284,\n",
       "        0.44285714285714284, 1.0],\n",
       "       [94.93502920649556, 68.69055358367824, 76.84651966910832, 33, 31,\n",
       "        60.81638254071578, 0.3538461538461538, 0.3538461538461538,\n",
       "        0.5384615384615384, 0.5076923076923077, 0.19999999999999996,\n",
       "        0.5076923076923077, 0.3846153846153846, 0.4461538461538461,\n",
       "        0.4461538461538461, 0.46153846153846156, 1.0, 0.4461538461538461,\n",
       "        0.49230769230769234, 1.0],\n",
       "       [86.5520877734939, 65.20390397994045, 74.47097941093155, 38, 33,\n",
       "        64.09734783461197, 0.41666666666666663, 0.41666666666666663,\n",
       "        0.6805555555555556, 0.1527777777777778, 0.41666666666666663,\n",
       "        0.6527777777777778, 0.08333333333333337, 0.5972222222222222,\n",
       "        0.5972222222222222, 0.5138888888888888, 1.0, 0.5833333333333333,\n",
       "        0.5972222222222222, 1.0]], dtype=object)"
      ]
     },
     "execution_count": 81,
     "metadata": {},
     "output_type": "execute_result"
    }
   ],
   "source": [
    "test_x"
   ]
  },
  {
   "cell_type": "code",
   "execution_count": 82,
   "metadata": {
    "ExecuteTime": {
     "end_time": "2020-08-20T07:38:22.049007Z",
     "start_time": "2020-08-20T07:38:22.031006Z"
    }
   },
   "outputs": [
    {
     "ename": "ValueError",
     "evalue": "feature_names mismatch: ['f0', 'f1', 'f2', 'f3', 'f4', 'f5', 'f6', 'f7', 'f8', 'f9', 'f10', 'f11', 'f12', 'f13'] ['f0', 'f1', 'f2', 'f3', 'f4', 'f5', 'f6', 'f7', 'f8', 'f9', 'f10', 'f11', 'f12', 'f13', 'f14', 'f15', 'f16', 'f17', 'f18', 'f19']\ntraining data did not have the following fields: f16, f19, f14, f17, f15, f18",
     "output_type": "error",
     "traceback": [
      "\u001b[0;31m---------------------------------------------------------------------------\u001b[0m",
      "\u001b[0;31mValueError\u001b[0m                                Traceback (most recent call last)",
      "\u001b[0;32m<ipython-input-82-99e48b56aca6>\u001b[0m in \u001b[0;36m<module>\u001b[0;34m()\u001b[0m\n\u001b[0;32m----> 1\u001b[0;31m \u001b[0my_pred\u001b[0m\u001b[0;34m=\u001b[0m\u001b[0mxgb_model\u001b[0m\u001b[0;34m.\u001b[0m\u001b[0mpredict\u001b[0m\u001b[0;34m(\u001b[0m\u001b[0mtest_x\u001b[0m\u001b[0;34m)\u001b[0m\u001b[0;34m\u001b[0m\u001b[0;34m\u001b[0m\u001b[0m\n\u001b[0m",
      "\u001b[0;32m~/anaconda3/lib/python3.6/site-packages/xgboost/sklearn.py\u001b[0m in \u001b[0;36mpredict\u001b[0;34m(self, data, output_margin, ntree_limit, validate_features, base_margin)\u001b[0m\n\u001b[1;32m    886\u001b[0m             \u001b[0moutput_margin\u001b[0m\u001b[0;34m=\u001b[0m\u001b[0moutput_margin\u001b[0m\u001b[0;34m,\u001b[0m\u001b[0;34m\u001b[0m\u001b[0;34m\u001b[0m\u001b[0m\n\u001b[1;32m    887\u001b[0m             \u001b[0mntree_limit\u001b[0m\u001b[0;34m=\u001b[0m\u001b[0mntree_limit\u001b[0m\u001b[0;34m,\u001b[0m\u001b[0;34m\u001b[0m\u001b[0;34m\u001b[0m\u001b[0m\n\u001b[0;32m--> 888\u001b[0;31m             validate_features=validate_features)\n\u001b[0m\u001b[1;32m    889\u001b[0m         \u001b[0;32mif\u001b[0m \u001b[0moutput_margin\u001b[0m\u001b[0;34m:\u001b[0m\u001b[0;34m\u001b[0m\u001b[0;34m\u001b[0m\u001b[0m\n\u001b[1;32m    890\u001b[0m             \u001b[0;31m# If output_margin is active, simply return the scores\u001b[0m\u001b[0;34m\u001b[0m\u001b[0;34m\u001b[0m\u001b[0;34m\u001b[0m\u001b[0m\n",
      "\u001b[0;32m~/anaconda3/lib/python3.6/site-packages/xgboost/core.py\u001b[0m in \u001b[0;36mpredict\u001b[0;34m(self, data, output_margin, ntree_limit, pred_leaf, pred_contribs, approx_contribs, pred_interactions, validate_features, training)\u001b[0m\n\u001b[1;32m   1569\u001b[0m \u001b[0;34m\u001b[0m\u001b[0m\n\u001b[1;32m   1570\u001b[0m         \u001b[0;32mif\u001b[0m \u001b[0mvalidate_features\u001b[0m\u001b[0;34m:\u001b[0m\u001b[0;34m\u001b[0m\u001b[0;34m\u001b[0m\u001b[0m\n\u001b[0;32m-> 1571\u001b[0;31m             \u001b[0mself\u001b[0m\u001b[0;34m.\u001b[0m\u001b[0m_validate_features\u001b[0m\u001b[0;34m(\u001b[0m\u001b[0mdata\u001b[0m\u001b[0;34m)\u001b[0m\u001b[0;34m\u001b[0m\u001b[0;34m\u001b[0m\u001b[0m\n\u001b[0m\u001b[1;32m   1572\u001b[0m \u001b[0;34m\u001b[0m\u001b[0m\n\u001b[1;32m   1573\u001b[0m         \u001b[0mlength\u001b[0m \u001b[0;34m=\u001b[0m \u001b[0mc_bst_ulong\u001b[0m\u001b[0;34m(\u001b[0m\u001b[0;34m)\u001b[0m\u001b[0;34m\u001b[0m\u001b[0;34m\u001b[0m\u001b[0m\n",
      "\u001b[0;32m~/anaconda3/lib/python3.6/site-packages/xgboost/core.py\u001b[0m in \u001b[0;36m_validate_features\u001b[0;34m(self, data)\u001b[0m\n\u001b[1;32m   2129\u001b[0m \u001b[0;34m\u001b[0m\u001b[0m\n\u001b[1;32m   2130\u001b[0m                 raise ValueError(msg.format(self.feature_names,\n\u001b[0;32m-> 2131\u001b[0;31m                                             data.feature_names))\n\u001b[0m\u001b[1;32m   2132\u001b[0m \u001b[0;34m\u001b[0m\u001b[0m\n\u001b[1;32m   2133\u001b[0m     def get_split_value_histogram(self, feature, fmap='', bins=None,\n",
      "\u001b[0;31mValueError\u001b[0m: feature_names mismatch: ['f0', 'f1', 'f2', 'f3', 'f4', 'f5', 'f6', 'f7', 'f8', 'f9', 'f10', 'f11', 'f12', 'f13'] ['f0', 'f1', 'f2', 'f3', 'f4', 'f5', 'f6', 'f7', 'f8', 'f9', 'f10', 'f11', 'f12', 'f13', 'f14', 'f15', 'f16', 'f17', 'f18', 'f19']\ntraining data did not have the following fields: f16, f19, f14, f17, f15, f18"
     ]
    }
   ],
   "source": [
    "y_pred = xgb_model.predict(test_x)"
   ]
  },
  {
   "cell_type": "code",
   "execution_count": null,
   "metadata": {},
   "outputs": [],
   "source": [
    "pd.crosstab(test_y,y_pred)"
   ]
  },
  {
   "cell_type": "code",
   "execution_count": null,
   "metadata": {
    "ExecuteTime": {
     "end_time": "2020-08-20T07:38:23.416085Z",
     "start_time": "2020-08-20T07:38:23.399084Z"
    }
   },
   "outputs": [],
   "source": [
    "from sklearn.metrics import classification_report\n",
    "print(classification_report(test_y, y_pred))"
   ]
  },
  {
   "cell_type": "markdown",
   "metadata": {},
   "source": [
    "## LIGHTGBM"
   ]
  },
  {
   "cell_type": "code",
   "execution_count": 84,
   "metadata": {
    "collapsed": true
   },
   "outputs": [
    {
     "name": "stdout",
     "output_type": "stream",
     "text": [
      "Looking in indexes: http://ftp.daumkakao.com/pypi/simple\n",
      "Collecting lightgbm\n",
      "  Downloading http://mirror.kakao.com/pypi/packages/0b/9d/ddcb2f43aca194987f1a99e27edf41cf9bc39ea750c3371c2a62698c509a/lightgbm-2.3.1-py2.py3-none-manylinux1_x86_64.whl (1.2 MB)\n",
      "\u001b[K     |████████████████████████████████| 1.2 MB 20.6 MB/s eta 0:00:01\n",
      "\u001b[?25hRequirement already satisfied: numpy in /home/centos/anaconda3/lib/python3.6/site-packages (from lightgbm) (1.19.0)\n",
      "Requirement already satisfied: scipy in /home/centos/anaconda3/lib/python3.6/site-packages (from lightgbm) (1.4.1)\n",
      "Requirement already satisfied: scikit-learn in /home/centos/anaconda3/lib/python3.6/site-packages (from lightgbm) (0.19.1)\n",
      "Installing collected packages: lightgbm\n",
      "Successfully installed lightgbm-2.3.1\n"
     ]
    }
   ],
   "source": [
    "!pip install lightgbm"
   ]
  },
  {
   "cell_type": "code",
   "execution_count": 85,
   "metadata": {
    "ExecuteTime": {
     "end_time": "2020-08-20T07:38:24.779163Z",
     "start_time": "2020-08-20T07:38:24.738160Z"
    }
   },
   "outputs": [
    {
     "data": {
      "text/plain": [
       "LGBMClassifier(boosting_type='gbdt', class_weight=None, colsample_bytree=1.0,\n",
       "        importance_type='split', learning_rate=0.1, max_depth=-1,\n",
       "        min_child_samples=20, min_child_weight=0.001, min_split_gain=0.0,\n",
       "        n_estimators=100, n_jobs=-1, num_leaves=31, objective=None,\n",
       "        random_state=None, reg_alpha=0.0, reg_lambda=0.0, silent=True,\n",
       "        subsample=1.0, subsample_for_bin=200000, subsample_freq=0)"
      ]
     },
     "execution_count": 85,
     "metadata": {},
     "output_type": "execute_result"
    }
   ],
   "source": [
    "from lightgbm import LGBMClassifier\n",
    "lgbm_model=LGBMClassifier(n_estimators=100)\n",
    "lgbm_model.fit(train_x.to_numpy(), train_y)"
   ]
  },
  {
   "cell_type": "code",
   "execution_count": 87,
   "metadata": {
    "ExecuteTime": {
     "end_time": "2020-08-20T07:38:26.169242Z",
     "start_time": "2020-08-20T07:38:26.144241Z"
    }
   },
   "outputs": [
    {
     "ename": "ValueError",
     "evalue": "Number of features of the model must match the input. Model n_features_ is 14 and input n_features is 20 ",
     "output_type": "error",
     "traceback": [
      "\u001b[0;31m---------------------------------------------------------------------------\u001b[0m",
      "\u001b[0;31mValueError\u001b[0m                                Traceback (most recent call last)",
      "\u001b[0;32m<ipython-input-87-5c1728d390f2>\u001b[0m in \u001b[0;36m<module>\u001b[0;34m()\u001b[0m\n\u001b[0;32m----> 1\u001b[0;31m \u001b[0my_pred\u001b[0m\u001b[0;34m=\u001b[0m\u001b[0mlgbm_model\u001b[0m\u001b[0;34m.\u001b[0m\u001b[0mpredict\u001b[0m\u001b[0;34m(\u001b[0m\u001b[0mtest_x\u001b[0m\u001b[0;34m)\u001b[0m\u001b[0;34m\u001b[0m\u001b[0;34m\u001b[0m\u001b[0m\n\u001b[0m\u001b[1;32m      2\u001b[0m \u001b[0mpd\u001b[0m\u001b[0;34m.\u001b[0m\u001b[0mcrosstab\u001b[0m\u001b[0;34m(\u001b[0m\u001b[0mtest_y\u001b[0m\u001b[0;34m,\u001b[0m \u001b[0my_pred\u001b[0m\u001b[0;34m)\u001b[0m\u001b[0;34m\u001b[0m\u001b[0;34m\u001b[0m\u001b[0m\n",
      "\u001b[0;32m~/anaconda3/lib/python3.6/site-packages/lightgbm/sklearn.py\u001b[0m in \u001b[0;36mpredict\u001b[0;34m(self, X, raw_score, num_iteration, pred_leaf, pred_contrib, **kwargs)\u001b[0m\n\u001b[1;32m    812\u001b[0m         \u001b[0;34m\"\"\"Docstring is inherited from the LGBMModel.\"\"\"\u001b[0m\u001b[0;34m\u001b[0m\u001b[0;34m\u001b[0m\u001b[0m\n\u001b[1;32m    813\u001b[0m         result = self.predict_proba(X, raw_score, num_iteration,\n\u001b[0;32m--> 814\u001b[0;31m                                     pred_leaf, pred_contrib, **kwargs)\n\u001b[0m\u001b[1;32m    815\u001b[0m         \u001b[0;32mif\u001b[0m \u001b[0mraw_score\u001b[0m \u001b[0;32mor\u001b[0m \u001b[0mpred_leaf\u001b[0m \u001b[0;32mor\u001b[0m \u001b[0mpred_contrib\u001b[0m\u001b[0;34m:\u001b[0m\u001b[0;34m\u001b[0m\u001b[0;34m\u001b[0m\u001b[0m\n\u001b[1;32m    816\u001b[0m             \u001b[0;32mreturn\u001b[0m \u001b[0mresult\u001b[0m\u001b[0;34m\u001b[0m\u001b[0;34m\u001b[0m\u001b[0m\n",
      "\u001b[0;32m~/anaconda3/lib/python3.6/site-packages/lightgbm/sklearn.py\u001b[0m in \u001b[0;36mpredict_proba\u001b[0;34m(self, X, raw_score, num_iteration, pred_leaf, pred_contrib, **kwargs)\u001b[0m\n\u001b[1;32m    861\u001b[0m         \"\"\"\n\u001b[1;32m    862\u001b[0m         result = super(LGBMClassifier, self).predict(X, raw_score, num_iteration,\n\u001b[0;32m--> 863\u001b[0;31m                                                      pred_leaf, pred_contrib, **kwargs)\n\u001b[0m\u001b[1;32m    864\u001b[0m         \u001b[0;32mif\u001b[0m \u001b[0mself\u001b[0m\u001b[0;34m.\u001b[0m\u001b[0m_n_classes\u001b[0m \u001b[0;34m>\u001b[0m \u001b[0;36m2\u001b[0m \u001b[0;32mor\u001b[0m \u001b[0mraw_score\u001b[0m \u001b[0;32mor\u001b[0m \u001b[0mpred_leaf\u001b[0m \u001b[0;32mor\u001b[0m \u001b[0mpred_contrib\u001b[0m\u001b[0;34m:\u001b[0m\u001b[0;34m\u001b[0m\u001b[0;34m\u001b[0m\u001b[0m\n\u001b[1;32m    865\u001b[0m             \u001b[0;32mreturn\u001b[0m \u001b[0mresult\u001b[0m\u001b[0;34m\u001b[0m\u001b[0;34m\u001b[0m\u001b[0m\n",
      "\u001b[0;32m~/anaconda3/lib/python3.6/site-packages/lightgbm/sklearn.py\u001b[0m in \u001b[0;36mpredict\u001b[0;34m(self, X, raw_score, num_iteration, pred_leaf, pred_contrib, **kwargs)\u001b[0m\n\u001b[1;32m    661\u001b[0m                              \u001b[0;34m\"match the input. Model n_features_ is %s and \"\u001b[0m\u001b[0;34m\u001b[0m\u001b[0;34m\u001b[0m\u001b[0m\n\u001b[1;32m    662\u001b[0m                              \u001b[0;34m\"input n_features is %s \"\u001b[0m\u001b[0;34m\u001b[0m\u001b[0;34m\u001b[0m\u001b[0m\n\u001b[0;32m--> 663\u001b[0;31m                              % (self._n_features, n_features))\n\u001b[0m\u001b[1;32m    664\u001b[0m         return self.booster_.predict(X, raw_score=raw_score, num_iteration=num_iteration,\n\u001b[1;32m    665\u001b[0m                                      pred_leaf=pred_leaf, pred_contrib=pred_contrib, **kwargs)\n",
      "\u001b[0;31mValueError\u001b[0m: Number of features of the model must match the input. Model n_features_ is 14 and input n_features is 20 "
     ]
    }
   ],
   "source": [
    "y_pred=lgbm_model.predict(test_x)\n",
    "pd.crosstab(test_y, y_pred)"
   ]
  },
  {
   "cell_type": "code",
   "execution_count": null,
   "metadata": {
    "ExecuteTime": {
     "end_time": "2020-08-20T07:38:27.620325Z",
     "start_time": "2020-08-20T07:38:27.612325Z"
    }
   },
   "outputs": [],
   "source": [
    "from sklearn.metrics import classification_report\n",
    "print(classification_report(test_y, y_pred))"
   ]
  },
  {
   "cell_type": "markdown",
   "metadata": {},
   "source": [
    "## Ensemble"
   ]
  },
  {
   "cell_type": "code",
   "execution_count": null,
   "metadata": {
    "ExecuteTime": {
     "end_time": "2020-08-20T07:38:29.296421Z",
     "start_time": "2020-08-20T07:38:28.960402Z"
    }
   },
   "outputs": [],
   "source": [
    "from sklearn.ensemble import VotingClassifier\n",
    "voting_model=VotingClassifier(estimators=[('rf', rf_model), ('xgb', xgb_model), ('lgb', lgbm_model), ('mlp', mlp)], voting='hard')\n",
    "voting_model.fit(train_x.to_numpy(), train_y)"
   ]
  },
  {
   "cell_type": "code",
   "execution_count": null,
   "metadata": {
    "ExecuteTime": {
     "end_time": "2020-08-20T07:38:30.895513Z",
     "start_time": "2020-08-20T07:38:30.881512Z"
    }
   },
   "outputs": [],
   "source": [
    "voting_model.get_params()"
   ]
  },
  {
   "cell_type": "code",
   "execution_count": null,
   "metadata": {
    "ExecuteTime": {
     "end_time": "2020-08-20T07:38:32.510605Z",
     "start_time": "2020-08-20T07:38:32.480603Z"
    }
   },
   "outputs": [],
   "source": [
    "y_pred=voting_model.predict(train_x.to_numpy())\n",
    "pd.crosstab(train_y, y_pred)"
   ]
  },
  {
   "cell_type": "markdown",
   "metadata": {},
   "source": [
    "# 생성데이터 -> 데이터프레임 생성"
   ]
  },
  {
   "cell_type": "markdown",
   "metadata": {},
   "source": [
    "* 훈석 & 정우 -> train\n",
    "* 문민 -> test"
   ]
  },
  {
   "cell_type": "code",
   "execution_count": null,
   "metadata": {},
   "outputs": [],
   "source": []
  }
 ],
 "metadata": {
  "kernelspec": {
   "display_name": "Python 3",
   "language": "python",
   "name": "python3"
  },
  "language_info": {
   "codemirror_mode": {
    "name": "ipython",
    "version": 3
   },
   "file_extension": ".py",
   "mimetype": "text/x-python",
   "name": "python",
   "nbconvert_exporter": "python",
   "pygments_lexer": "ipython3",
   "version": "3.6.8"
  },
  "toc": {
   "base_numbering": 1,
   "nav_menu": {},
   "number_sections": true,
   "sideBar": true,
   "skip_h1_title": false,
   "title_cell": "Table of Contents",
   "title_sidebar": "Contents",
   "toc_cell": false,
   "toc_position": {},
   "toc_section_display": true,
   "toc_window_display": false
  },
  "varInspector": {
   "cols": {
    "lenName": 16,
    "lenType": 16,
    "lenVar": 40
   },
   "kernels_config": {
    "python": {
     "delete_cmd_postfix": "",
     "delete_cmd_prefix": "del ",
     "library": "var_list.py",
     "varRefreshCmd": "print(var_dic_list())"
    },
    "r": {
     "delete_cmd_postfix": ") ",
     "delete_cmd_prefix": "rm(",
     "library": "var_list.r",
     "varRefreshCmd": "cat(var_dic_list()) "
    }
   },
   "types_to_exclude": [
    "module",
    "function",
    "builtin_function_or_method",
    "instance",
    "_Feature"
   ],
   "window_display": false
  }
 },
 "nbformat": 4,
 "nbformat_minor": 4
}
